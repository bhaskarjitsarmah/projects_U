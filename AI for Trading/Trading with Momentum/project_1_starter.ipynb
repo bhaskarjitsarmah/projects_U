{
 "cells": [
  {
   "cell_type": "markdown",
   "metadata": {},
   "source": [
    "# Project 1: Trading with Momentum\n",
    "\n",
    "In this project, you will learn to implement a trading strategy on your own, and test to see if it has the potential to be profitable. You will be supplied with a universe of stocks and time range. You will also be provided with a textual description of how to generate a trading signal based on a momentum indicator. You will then compute the signal for the time range given and apply it to the dataset to produce projected returns. Finally, you will perform a statistical test on the mean of the returns to conclude if there is alpha in the signal.\n",
    "\n",
    "Complete the following tasks by implementing sections marked with a `TODO` comment and answering any questions.\n",
    "## Install Packages"
   ]
  },
  {
   "cell_type": "code",
   "execution_count": 1,
   "metadata": {},
   "outputs": [
    {
     "name": "stdout",
     "output_type": "stream",
     "text": [
      "Requirement already satisfied: colour==0.1.5 in /opt/conda/lib/python3.6/site-packages (from -r requirements.txt (line 1))\n",
      "Requirement already satisfied: cycler==0.10.0 in /opt/conda/lib/python3.6/site-packages/cycler-0.10.0-py3.6.egg (from -r requirements.txt (line 2))\n",
      "Collecting matplotlib==2.1.1 (from -r requirements.txt (line 3))\n",
      "  Downloading https://files.pythonhosted.org/packages/34/50/d1649dafaecc91e360b1ca8defebb25f865e29928a98bc7d42ba3b1350e5/matplotlib-2.1.1-cp36-cp36m-manylinux1_x86_64.whl (15.0MB)\n",
      "\u001b[K    100% |████████████████████████████████| 15.0MB 45kB/s  eta 0:00:01   10% |███▍                            | 1.6MB 11.1MB/s eta 0:00:02    21% |██████▊                         | 3.2MB 19.1MB/s eta 0:00:01    33% |██████████▊                     | 5.0MB 16.2MB/s eta 0:00:01    39% |████████████▋                   | 5.9MB 18.8MB/s eta 0:00:01    51% |████████████████▌               | 7.7MB 14.2MB/s eta 0:00:01    57% |██████████████████▌             | 8.7MB 13.9MB/s eta 0:00:01    94% |██████████████████████████████▏ | 14.2MB 17.8MB/s eta 0:00:01\n",
      "\u001b[?25hCollecting numpy==1.13.3 (from -r requirements.txt (line 4))\n",
      "  Downloading https://files.pythonhosted.org/packages/57/a7/e3e6bd9d595125e1abbe162e323fd2d06f6f6683185294b79cd2cdb190d5/numpy-1.13.3-cp36-cp36m-manylinux1_x86_64.whl (17.0MB)\n",
      "\u001b[K    100% |████████████████████████████████| 17.0MB 40kB/s  eta 0:00:01   12% |████                            | 2.1MB 16.3MB/s eta 0:00:01    33% |██████████▉                     | 5.8MB 14.8MB/s eta 0:00:01    39% |████████████▋                   | 6.7MB 14.8MB/s eta 0:00:01    44% |██████████████▎                 | 7.6MB 14.4MB/s eta 0:00:01    50% |████████████████                | 8.6MB 23.3MB/s eta 0:00:01    61% |███████████████████▌            | 10.4MB 18.3MB/s eta 0:00:01    88% |████████████████████████████▏   | 15.0MB 14.5MB/s eta 0:00:01\n",
      "\u001b[?25hCollecting pandas==0.21.1 (from -r requirements.txt (line 5))\n",
      "  Downloading https://files.pythonhosted.org/packages/3a/e1/6c514df670b887c77838ab856f57783c07e8760f2e3d5939203a39735e0e/pandas-0.21.1-cp36-cp36m-manylinux1_x86_64.whl (26.2MB)\n",
      "\u001b[K    100% |████████████████████████████████| 26.2MB 24kB/s  eta 0:00:01  0% |▏                               | 143kB 22.5MB/s eta 0:00:02    7% |██▍                             | 2.0MB 14.8MB/s eta 0:00:02    11% |███▌                            | 2.9MB 20.7MB/s eta 0:00:02    21% |██████▉                         | 5.6MB 20.3MB/s eta 0:00:02    24% |████████                        | 6.5MB 14.6MB/s eta 0:00:02    28% |█████████                       | 7.4MB 17.9MB/s eta 0:00:02    48% |███████████████▌                | 12.7MB 18.3MB/s eta 0:00:01    51% |████████████████▋               | 13.6MB 16.6MB/s eta 0:00:01    62% |████████████████████            | 16.4MB 11.5MB/s eta 0:00:01    77% |████████████████████████▉       | 20.4MB 20.7MB/s eta 0:00:01    81% |██████████████████████████      | 21.3MB 18.5MB/s eta 0:00:01    84% |███████████████████████████▏    | 22.2MB 19.6MB/s eta 0:00:01    88% |████████████████████████████▍   | 23.3MB 20.9MB/s eta 0:00:01    92% |█████████████████████████████▌  | 24.1MB 19.1MB/s eta 0:00:01    99% |████████████████████████████████| 26.2MB 22.1MB/s eta 0:00:01\n",
      "\u001b[?25hCollecting plotly==2.2.3 (from -r requirements.txt (line 6))\n",
      "  Downloading https://files.pythonhosted.org/packages/99/a6/8214b6564bf4ace9bec8a26e7f89832792be582c042c47c912d3201328a0/plotly-2.2.3.tar.gz (1.1MB)\n",
      "\u001b[K    100% |████████████████████████████████| 1.1MB 617kB/s eta 0:00:01    22% |███████▎                        | 245kB 16.8MB/s eta 0:00:01\n",
      "\u001b[?25hRequirement already satisfied: pyparsing==2.2.0 in /opt/conda/lib/python3.6/site-packages (from -r requirements.txt (line 7))\n",
      "Requirement already satisfied: python-dateutil==2.6.1 in /opt/conda/lib/python3.6/site-packages (from -r requirements.txt (line 8))\n",
      "Requirement already satisfied: pytz==2017.3 in /opt/conda/lib/python3.6/site-packages (from -r requirements.txt (line 9))\n",
      "Collecting quandl==3.3.0 (from -r requirements.txt (line 10))\n",
      "  Downloading https://files.pythonhosted.org/packages/47/8c/b61f5c1e9167f4c1c1c2b86991bbbac51a2bd937b36cbc4cc39248dfb2d1/Quandl-3.3.0-py2.py3-none-any.whl\n",
      "Collecting scipy==1.0.0 (from -r requirements.txt (line 11))\n",
      "  Downloading https://files.pythonhosted.org/packages/d8/5e/caa01ba7be11600b6a9d39265440d7b3be3d69206da887c42bef049521f2/scipy-1.0.0-cp36-cp36m-manylinux1_x86_64.whl (50.0MB)\n",
      "\u001b[K    100% |████████████████████████████████| 50.0MB 12kB/s  eta 0:00:01  1% |▌                               | 778kB 16.9MB/s eta 0:00:03    3% |█                               | 1.7MB 17.7MB/s eta 0:00:03    8% |██▉                             | 4.5MB 16.6MB/s eta 0:00:03    10% |███▍                            | 5.4MB 19.6MB/s eta 0:00:03    16% |█████▎                          | 8.2MB 21.1MB/s eta 0:00:02    18% |█████▉                          | 9.1MB 19.4MB/s eta 0:00:03    20% |██████▍                         | 10.0MB 17.0MB/s eta 0:00:03    23% |███████▋                        | 11.9MB 18.4MB/s eta 0:00:03    25% |████████▏                       | 12.8MB 20.0MB/s eta 0:00:02    29% |█████████▍                      | 14.7MB 19.3MB/s eta 0:00:02    32% |██████████▌                     | 16.5MB 18.7MB/s eta 0:00:02    34% |███████████▏                    | 17.4MB 14.9MB/s eta 0:00:03    38% |████████████▍                   | 19.3MB 20.2MB/s eta 0:00:02    40% |█████████████                   | 20.3MB 19.7MB/s eta 0:00:02    42% |█████████████▌                  | 21.2MB 19.1MB/s eta 0:00:02    44% |██████████████▏                 | 22.1MB 18.6MB/s eta 0:00:02    47% |███████████████▍                | 24.0MB 18.0MB/s eta 0:00:02    49% |████████████████                | 24.9MB 19.3MB/s eta 0:00:02    53% |█████████████████▏              | 26.9MB 21.8MB/s eta 0:00:02    57% |██████████████████▍             | 28.8MB 19.8MB/s eta 0:00:02    59% |███████████████████             | 29.8MB 19.5MB/s eta 0:00:02    63% |████████████████████▎           | 31.7MB 20.1MB/s eta 0:00:01    67% |█████████████████████▌          | 33.6MB 17.9MB/s eta 0:00:01    78% |█████████████████████████       | 39.2MB 21.1MB/s eta 0:00:01    80% |█████████████████████████▊      | 40.3MB 23.6MB/s eta 0:00:01    84% |███████████████████████████     | 42.1MB 17.5MB/s eta 0:00:01    86% |███████████████████████████▌    | 43.1MB 16.6MB/s eta 0:00:01    89% |████████████████████████████▉   | 45.0MB 16.2MB/s eta 0:00:01    93% |██████████████████████████████  | 46.9MB 19.1MB/s eta 0:00:01    95% |██████████████████████████████▋ | 47.9MB 16.5MB/s eta 0:00:01    99% |███████████████████████████████▉| 49.8MB 23.7MB/s eta 0:00:01\n",
      "\u001b[?25hRequirement already satisfied: scikit-learn==0.19.1 in /opt/conda/lib/python3.6/site-packages (from -r requirements.txt (line 12))\n",
      "Requirement already satisfied: six==1.11.0 in /opt/conda/lib/python3.6/site-packages (from -r requirements.txt (line 13))\n",
      "Collecting tqdm==4.19.5 (from -r requirements.txt (line 14))\n",
      "  Downloading https://files.pythonhosted.org/packages/71/3c/341b4fa23cb3abc335207dba057c790f3bb329f6757e1fcd5d347bcf8308/tqdm-4.19.5-py2.py3-none-any.whl (51kB)\n",
      "\u001b[K    100% |████████████████████████████████| 61kB 5.3MB/s eta 0:00:01\n",
      "\u001b[?25hRequirement already satisfied: decorator>=4.0.6 in /opt/conda/lib/python3.6/site-packages (from plotly==2.2.3->-r requirements.txt (line 6))\n",
      "Requirement already satisfied: nbformat>=4.2 in /opt/conda/lib/python3.6/site-packages (from plotly==2.2.3->-r requirements.txt (line 6))\n",
      "Requirement already satisfied: requests in /opt/conda/lib/python3.6/site-packages (from plotly==2.2.3->-r requirements.txt (line 6))\n",
      "Collecting more-itertools (from quandl==3.3.0->-r requirements.txt (line 10))\n",
      "  Downloading https://files.pythonhosted.org/packages/79/b1/eace304ef66bd7d3d8b2f78cc374b73ca03bc53664d78151e9df3b3996cc/more_itertools-4.3.0-py3-none-any.whl (48kB)\n",
      "\u001b[K    100% |████████████████████████████████| 51kB 3.1MB/s ta 0:00:01\n",
      "\u001b[?25hRequirement already satisfied: pyOpenSSL in /opt/conda/lib/python3.6/site-packages (from quandl==3.3.0->-r requirements.txt (line 10))\n",
      "Collecting ndg-httpsclient (from quandl==3.3.0->-r requirements.txt (line 10))\n",
      "  Downloading https://files.pythonhosted.org/packages/fb/67/c2f508c00ed2a6911541494504b7cac16fe0b0473912568df65fd1801132/ndg_httpsclient-0.5.1-py3-none-any.whl\n"
     ]
    },
    {
     "name": "stdout",
     "output_type": "stream",
     "text": [
      "Requirement already satisfied: pyasn1 in /opt/conda/lib/python3.6/site-packages (from quandl==3.3.0->-r requirements.txt (line 10))\n",
      "Collecting inflection>=0.3.1 (from quandl==3.3.0->-r requirements.txt (line 10))\n",
      "  Downloading https://files.pythonhosted.org/packages/d5/35/a6eb45b4e2356fe688b21570864d4aa0d0a880ce387defe9c589112077f8/inflection-0.3.1.tar.gz\n",
      "Requirement already satisfied: jupyter-core in /opt/conda/lib/python3.6/site-packages (from nbformat>=4.2->plotly==2.2.3->-r requirements.txt (line 6))\n",
      "Requirement already satisfied: traitlets>=4.1 in /opt/conda/lib/python3.6/site-packages (from nbformat>=4.2->plotly==2.2.3->-r requirements.txt (line 6))\n",
      "Requirement already satisfied: jsonschema!=2.5.0,>=2.4 in /opt/conda/lib/python3.6/site-packages (from nbformat>=4.2->plotly==2.2.3->-r requirements.txt (line 6))\n",
      "Requirement already satisfied: ipython-genutils in /opt/conda/lib/python3.6/site-packages (from nbformat>=4.2->plotly==2.2.3->-r requirements.txt (line 6))\n",
      "Requirement already satisfied: chardet<3.1.0,>=3.0.2 in /opt/conda/lib/python3.6/site-packages (from requests->plotly==2.2.3->-r requirements.txt (line 6))\n",
      "Requirement already satisfied: idna<2.7,>=2.5 in /opt/conda/lib/python3.6/site-packages (from requests->plotly==2.2.3->-r requirements.txt (line 6))\n",
      "Requirement already satisfied: urllib3<1.23,>=1.21.1 in /opt/conda/lib/python3.6/site-packages (from requests->plotly==2.2.3->-r requirements.txt (line 6))\n",
      "Requirement already satisfied: certifi>=2017.4.17 in /opt/conda/lib/python3.6/site-packages (from requests->plotly==2.2.3->-r requirements.txt (line 6))\n",
      "Requirement already satisfied: cryptography>=1.9 in /opt/conda/lib/python3.6/site-packages (from pyOpenSSL->quandl==3.3.0->-r requirements.txt (line 10))\n",
      "Requirement already satisfied: asn1crypto>=0.21.0 in /opt/conda/lib/python3.6/site-packages (from cryptography>=1.9->pyOpenSSL->quandl==3.3.0->-r requirements.txt (line 10))\n",
      "Requirement already satisfied: cffi>=1.7 in /opt/conda/lib/python3.6/site-packages (from cryptography>=1.9->pyOpenSSL->quandl==3.3.0->-r requirements.txt (line 10))\n",
      "Requirement already satisfied: pycparser in /opt/conda/lib/python3.6/site-packages (from cffi>=1.7->cryptography>=1.9->pyOpenSSL->quandl==3.3.0->-r requirements.txt (line 10))\n",
      "Building wheels for collected packages: plotly, inflection\n",
      "  Running setup.py bdist_wheel for plotly ... \u001b[?25ldone\n",
      "\u001b[?25h  Stored in directory: /root/.cache/pip/wheels/98/54/81/dd92d5b0858fac680cd7bdb8800eb26c001dd9f5dc8b1bc0ba\n",
      "  Running setup.py bdist_wheel for inflection ... \u001b[?25ldone\n",
      "\u001b[?25h  Stored in directory: /root/.cache/pip/wheels/9f/5a/d3/6fc3bf6516d2a3eb7e18f9f28b472110b59325f3f258fe9211\n",
      "Successfully built plotly inflection\n",
      "Installing collected packages: numpy, matplotlib, pandas, plotly, more-itertools, ndg-httpsclient, inflection, quandl, scipy, tqdm\n",
      "  Found existing installation: numpy 1.12.1\n",
      "    Uninstalling numpy-1.12.1:\n",
      "      Successfully uninstalled numpy-1.12.1\n",
      "  Found existing installation: matplotlib 2.1.0\n",
      "    Uninstalling matplotlib-2.1.0:\n",
      "      Successfully uninstalled matplotlib-2.1.0\n",
      "  Found existing installation: pandas 0.20.3\n",
      "    Uninstalling pandas-0.20.3:\n",
      "      Successfully uninstalled pandas-0.20.3\n",
      "  Found existing installation: plotly 2.0.15\n",
      "    Uninstalling plotly-2.0.15:\n",
      "      Successfully uninstalled plotly-2.0.15\n",
      "  Found existing installation: scipy 0.19.1\n",
      "    Uninstalling scipy-0.19.1:\n",
      "      Successfully uninstalled scipy-0.19.1\n",
      "  Found existing installation: tqdm 4.11.2\n",
      "    Uninstalling tqdm-4.11.2:\n",
      "      Successfully uninstalled tqdm-4.11.2\n",
      "Successfully installed inflection-0.3.1 matplotlib-2.1.1 more-itertools-4.3.0 ndg-httpsclient-0.5.1 numpy-1.13.3 pandas-0.21.1 plotly-2.2.3 quandl-3.3.0 scipy-1.0.0 tqdm-4.19.5\n",
      "\u001b[33mYou are using pip version 9.0.1, however version 18.1 is available.\n",
      "You should consider upgrading via the 'pip install --upgrade pip' command.\u001b[0m\n"
     ]
    }
   ],
   "source": [
    "import sys\n",
    "!{sys.executable} -m pip install -r requirements.txt"
   ]
  },
  {
   "cell_type": "markdown",
   "metadata": {},
   "source": [
    "## Market Data\n",
    "The data source we'll be using is the [Wiki End of Day data](https://www.quandl.com/databases/WIKIP) hosted at [Quandl](https://www.quandl.com). This contains data for many stocks, but we'll just be looking at the S&P 500 stocks. We'll also make things a little easier to solve by narrowing our range of time from 2007-06-30 to 2017-09-30.\n",
    "### Set API Key\n",
    "Set the `quandl.ApiConfig.api_key ` variable to your Quandl api key. You can find your Quandl api key [here](https://www.quandl.com/account/api)."
   ]
  },
  {
   "cell_type": "code",
   "execution_count": 2,
   "metadata": {},
   "outputs": [],
   "source": [
    "import quandl\n",
    "\n",
    "# TODO: Add your Quandl API Key\n",
    "quandl.ApiConfig.api_key  = 'r4mgK1hxD11kLoFtRsso'"
   ]
  },
  {
   "cell_type": "markdown",
   "metadata": {},
   "source": [
    "### Download Data"
   ]
  },
  {
   "cell_type": "code",
   "execution_count": 3,
   "metadata": {},
   "outputs": [
    {
     "name": "stdout",
     "output_type": "stream",
     "text": [
      "Data already downloaded\n"
     ]
    }
   ],
   "source": [
    "import os\n",
    "import helper\n",
    "\n",
    "snp500_file_path = 'data/tickers_SnP500.txt'\n",
    "wiki_file_path = 'data/WIKI_PRICES.csv'\n",
    "start_date, end_date = '2013-07-01', '2017-06-30'\n",
    "use_columns = ['date', 'ticker', 'adj_open', 'adj_close', 'adj_high', 'adj_low']\n",
    "tickers = []\n",
    "\n",
    "if not os.path.exists(wiki_file_path):\n",
    "    with open(snp500_file_path) as f:\n",
    "        tickers = f.read().split()\n",
    "        \n",
    "    print('Downloading data...')\n",
    "    helper.download_quandl_dataset('WIKI', 'PRICES', wiki_file_path, use_columns, tickers, start_date, end_date)\n",
    "    print('Data downloaded')\n",
    "else:\n",
    "    print('Data already downloaded')"
   ]
  },
  {
   "cell_type": "markdown",
   "metadata": {},
   "source": [
    "### Import libraries and tests\n",
    "Import any required libraries here, e.g. NumPy, Pandas, Matplotlib, etc. Also import unit tests to verify that your implementations are correct."
   ]
  },
  {
   "cell_type": "code",
   "execution_count": 4,
   "metadata": {},
   "outputs": [],
   "source": [
    "import pandas as pd\n",
    "import matplotlib.pyplot as plt\n",
    "\n",
    "%matplotlib inline\n",
    "plt.style.use('ggplot')\n",
    "\n",
    "from tests import tests"
   ]
  },
  {
   "cell_type": "markdown",
   "metadata": {},
   "source": [
    "The functions you implement will be checked against unit tests for correctness. These tests make basic checks for any major problems with your implementation. It doesn't guarantee you have the correct solution, so make sure to read the instructions carefully."
   ]
  },
  {
   "cell_type": "markdown",
   "metadata": {},
   "source": [
    "### Load data"
   ]
  },
  {
   "cell_type": "code",
   "execution_count": 5,
   "metadata": {},
   "outputs": [
    {
     "name": "stdout",
     "output_type": "stream",
     "text": [
      "Loaded dataframe with 492531 rows and 6 columns\n"
     ]
    },
    {
     "data": {
      "text/html": [
       "<div>\n",
       "<style scoped>\n",
       "    .dataframe tbody tr th:only-of-type {\n",
       "        vertical-align: middle;\n",
       "    }\n",
       "\n",
       "    .dataframe tbody tr th {\n",
       "        vertical-align: top;\n",
       "    }\n",
       "\n",
       "    .dataframe thead th {\n",
       "        text-align: right;\n",
       "    }\n",
       "</style>\n",
       "<table border=\"1\" class=\"dataframe\">\n",
       "  <thead>\n",
       "    <tr style=\"text-align: right;\">\n",
       "      <th></th>\n",
       "      <th>date</th>\n",
       "      <th>ticker</th>\n",
       "      <th>adj_open</th>\n",
       "      <th>adj_close</th>\n",
       "      <th>adj_high</th>\n",
       "      <th>adj_low</th>\n",
       "    </tr>\n",
       "  </thead>\n",
       "  <tbody>\n",
       "    <tr>\n",
       "      <th>0</th>\n",
       "      <td>2013-07-01</td>\n",
       "      <td>A</td>\n",
       "      <td>29.829307</td>\n",
       "      <td>30.203472</td>\n",
       "      <td>30.328194</td>\n",
       "      <td>29.732301</td>\n",
       "    </tr>\n",
       "    <tr>\n",
       "      <th>1</th>\n",
       "      <td>2013-07-02</td>\n",
       "      <td>A</td>\n",
       "      <td>30.141111</td>\n",
       "      <td>29.857023</td>\n",
       "      <td>30.411342</td>\n",
       "      <td>29.760017</td>\n",
       "    </tr>\n",
       "    <tr>\n",
       "      <th>2</th>\n",
       "      <td>2013-07-03</td>\n",
       "      <td>A</td>\n",
       "      <td>29.669940</td>\n",
       "      <td>29.912454</td>\n",
       "      <td>30.113395</td>\n",
       "      <td>29.600650</td>\n",
       "    </tr>\n",
       "    <tr>\n",
       "      <th>3</th>\n",
       "      <td>2013-07-05</td>\n",
       "      <td>A</td>\n",
       "      <td>30.113395</td>\n",
       "      <td>30.646927</td>\n",
       "      <td>30.691966</td>\n",
       "      <td>30.071821</td>\n",
       "    </tr>\n",
       "    <tr>\n",
       "      <th>4</th>\n",
       "      <td>2013-07-08</td>\n",
       "      <td>A</td>\n",
       "      <td>30.750862</td>\n",
       "      <td>30.737004</td>\n",
       "      <td>30.951803</td>\n",
       "      <td>30.570709</td>\n",
       "    </tr>\n",
       "  </tbody>\n",
       "</table>\n",
       "</div>"
      ],
      "text/plain": [
       "        date ticker   adj_open  adj_close   adj_high    adj_low\n",
       "0 2013-07-01      A  29.829307  30.203472  30.328194  29.732301\n",
       "1 2013-07-02      A  30.141111  29.857023  30.411342  29.760017\n",
       "2 2013-07-03      A  29.669940  29.912454  30.113395  29.600650\n",
       "3 2013-07-05      A  30.113395  30.646927  30.691966  30.071821\n",
       "4 2013-07-08      A  30.750862  30.737004  30.951803  30.570709"
      ]
     },
     "execution_count": 5,
     "metadata": {},
     "output_type": "execute_result"
    }
   ],
   "source": [
    "df = pd.read_csv(wiki_file_path, parse_dates=['date'], index_col=False)\n",
    "print(\"Loaded dataframe with {} rows and {} columns\".format(len(df), len(df.columns)))\n",
    "df.head()"
   ]
  },
  {
   "cell_type": "markdown",
   "metadata": {},
   "source": [
    "### Plot data\n",
    "\n",
    "Verify that the data has been loaded correctly by plotting a sample. The `plot_data()` function does not have any associated tests; check visually to ensure that the plot produced is clear, unambiguous, and shows reasonable values."
   ]
  },
  {
   "cell_type": "code",
   "execution_count": 6,
   "metadata": {},
   "outputs": [
    {
     "data": {
      "image/png": "[encoded data removed]",
      "text/plain": [
       "<matplotlib.figure.Figure at 0x7f3e7ecc5cf8>"
      ]
     },
     "metadata": {
      "needs_background": "light"
     },
     "output_type": "display_data"
    }
   ],
   "source": [
    "def plot_data(df, start_date, end_date, ticker, column='adj_close'):\n",
    "    \"\"\"\n",
    "    Plot stock data for desired ticker and date range.\n",
    "    \n",
    "    Parameters\n",
    "    ----------\n",
    "    df : DataFrame\n",
    "        Stock prices with dates and ticker symbols\n",
    "    start_date : str\n",
    "        Start of date range to plot\n",
    "    end_date : str\n",
    "        End of date range to plot\n",
    "    ticker : str\n",
    "        Which stock to plot\n",
    "    column : str\n",
    "        Which column contains price data\n",
    "    \"\"\"\n",
    "    # TODO: Plot stock prices (default: 'adj_close' column)\n",
    "    # Note: Your plot should be labeled, and the X-axis should be dates\n",
    "    df = df.set_index('date')\n",
    "    df = df.loc[start_date:end_date]\n",
    "    df = df[df['ticker'] == ticker]\n",
    "    df.plot()\n",
    "    plt.xlabel('dates')\n",
    "    plt.ylabel('adj_close')\n",
    "    plt.show()\n",
    "    \n",
    "plot_data(df, start_date='2017-06-01', end_date='2017-06-30', ticker='GOOG')"
   ]
  },
  {
   "cell_type": "markdown",
   "metadata": {},
   "source": [
    "## Resample Adjusted Prices\n",
    "\n",
    "The trading signal you'll develop in this project need not be based on daily prices, for instance, you can use month-end prices to perform trading once a month. To do this, you must first resample the daily adjusted closing prices into monthly buckets, and select the last observation of each month.\n",
    "\n",
    "Define a function `resample_prices()` that takes a dataframe, a sampling frequency (default: `freq='M'`, i.e. monthly), and a choice of which column to extract (default: `column='adj_close'`). For each ticker (stock symbol), it should pick the indicated column value at the end of each sampling period (e.g. the last day of every month), and return a dataframe object with columns named `['ticker', 'date', 'price']`.\n",
    "\n",
    "Note:\n",
    "- If you use [`pandas.DataFrame.groupby()`](https://pandas.pydata.org/pandas-docs/stable/generated/pandas.DataFrame.groupby.html), it may produce a series or dataframe with a multi-level index. Consequently, you may have to call `.reset_index()` on the result before returning.\n",
    "- Consider using [`pandas.Grouper`](https://pandas.pydata.org/pandas-docs/stable/generated/pandas.Grouper.html) for easily resampling at the specified frequency.\n",
    "- Don't forget to rename the price column to `'price'`."
   ]
  },
  {
   "cell_type": "code",
   "execution_count": 7,
   "metadata": {},
   "outputs": [
    {
     "name": "stdout",
     "output_type": "stream",
     "text": [
      "test_resample_prices(): Tests passed\n"
     ]
    }
   ],
   "source": [
    "def resample_prices(df, freq='M', column='adj_close'):\n",
    "    \"\"\"\n",
    "    Resample prices for each ticker at specified frequency.\n",
    "    \n",
    "    Parameters\n",
    "    ----------\n",
    "    df : DataFrame\n",
    "        Stock prices with dates and ticker symbols\n",
    "    freq : str\n",
    "        What frequency to sample at\n",
    "        For valid freq choices, see http://pandas.pydata.org/pandas-docs/stable/timeseries.html#offset-aliases\n",
    "    column : str\n",
    "        Which column contains price data\n",
    "    \n",
    "    Returns\n",
    "    -------\n",
    "    df_resampled : DataFrame\n",
    "        Resampled stock prices\n",
    "        It contains the columns 'ticker', 'date', and 'price'\n",
    "    \"\"\"\n",
    "    # TODO: Return the last price of each ticker (stock) from each time bucket\n",
    "    df_resampled = df.set_index('date')\n",
    "    df_resampled = df_resampled.groupby('ticker')\n",
    "    df_resampled = df_resampled[column].resample(freq).last()\n",
    "    df_resampled = df_resampled.reset_index()\n",
    "    df_resampled = df_resampled.rename(index=str, columns={column: 'price'})\n",
    "    \n",
    "    return df_resampled\n",
    "\n",
    "tests.test_resample_prices(resample_prices)"
   ]
  },
  {
   "cell_type": "markdown",
   "metadata": {},
   "source": [
    "## Compute Momentum Indicator\n",
    "\n",
    "Compute log returns ($r_t$) from prices ($x_t$) as your primary momentum indicator:\n",
    "\n",
    "$$r_t = log_e(x_t) - log_e(x_{t-1})$$\n",
    "\n",
    "Implement the function `compute_log_returns()` below, such that it accepts a dataframe (like one returned by `resample_prices()`), and produces a similar dataframe with an additional column named `'return'` that contains the log returns (keep existing columns `'ticker'`, `'date'`, `'price'` as-is). As before, it has an optional parameter `column` that specifies which column to compute returns on (default: `'price'`).\n",
    "\n",
    "Note:\n",
    "- You must ensure that the prices are ordered by date to correctly apply the above formula.\n",
    "- Also, this calculation should be performed per ticker, i.e. at no point should you be using prices of two different stocks to calculate a return.\n",
    "- The first observation for each ticker should result in a `NaN` value (Not-a-Number), since no previous price is available at that point. This is expected; you'll discard `NaN`s at a later stage."
   ]
  },
  {
   "cell_type": "code",
   "execution_count": 8,
   "metadata": {},
   "outputs": [
    {
     "name": "stdout",
     "output_type": "stream",
     "text": [
      "test_compute_log_returns(): Tests passed\n"
     ]
    }
   ],
   "source": [
    "import numpy as np\n",
    "\n",
    "def compute_log_returns(df, column='price'):\n",
    "    \"\"\"\n",
    "    Compute log returns for each ticker.\n",
    "    \n",
    "    Parameters\n",
    "    ----------\n",
    "    df : DataFrame\n",
    "        Stock prices with dates and ticker symbols\n",
    "    column : str\n",
    "        Which column contains price data\n",
    "    \n",
    "    Returns\n",
    "    -------\n",
    "    df_returns : DataFrame\n",
    "        log returns\n",
    "        It contains the column 'return'\n",
    "    \"\"\"\n",
    "    # TODO: For each ticker, order by date (t) and compute log_e(x_t) - log_e(x_{t-1})\n",
    "    df[\"return\"] = df.groupby(\"ticker\")[column].apply(lambda x: np.log(x) - np.log(x.shift(1)))\n",
    "    \n",
    "    return df\n",
    "\n",
    "tests.test_compute_log_returns(compute_log_returns)"
   ]
  },
  {
   "cell_type": "code",
   "execution_count": 9,
   "metadata": {},
   "outputs": [
    {
     "data": {
      "text/html": [
       "<div>\n",
       "<style scoped>\n",
       "    .dataframe tbody tr th:only-of-type {\n",
       "        vertical-align: middle;\n",
       "    }\n",
       "\n",
       "    .dataframe tbody tr th {\n",
       "        vertical-align: top;\n",
       "    }\n",
       "\n",
       "    .dataframe thead th {\n",
       "        text-align: right;\n",
       "    }\n",
       "</style>\n",
       "<table border=\"1\" class=\"dataframe\">\n",
       "  <thead>\n",
       "    <tr style=\"text-align: right;\">\n",
       "      <th></th>\n",
       "      <th>ticker</th>\n",
       "      <th>date</th>\n",
       "      <th>price</th>\n",
       "      <th>return</th>\n",
       "    </tr>\n",
       "  </thead>\n",
       "  <tbody>\n",
       "    <tr>\n",
       "      <th>0</th>\n",
       "      <td>A</td>\n",
       "      <td>2013-07-31</td>\n",
       "      <td>30.993377</td>\n",
       "      <td>NaN</td>\n",
       "    </tr>\n",
       "    <tr>\n",
       "      <th>1</th>\n",
       "      <td>A</td>\n",
       "      <td>2013-08-31</td>\n",
       "      <td>32.316814</td>\n",
       "      <td>0.041814</td>\n",
       "    </tr>\n",
       "    <tr>\n",
       "      <th>2</th>\n",
       "      <td>A</td>\n",
       "      <td>2013-09-30</td>\n",
       "      <td>35.593615</td>\n",
       "      <td>0.096579</td>\n",
       "    </tr>\n",
       "    <tr>\n",
       "      <th>3</th>\n",
       "      <td>A</td>\n",
       "      <td>2013-10-31</td>\n",
       "      <td>35.253305</td>\n",
       "      <td>-0.009607</td>\n",
       "    </tr>\n",
       "    <tr>\n",
       "      <th>4</th>\n",
       "      <td>A</td>\n",
       "      <td>2013-11-30</td>\n",
       "      <td>37.204877</td>\n",
       "      <td>0.053881</td>\n",
       "    </tr>\n",
       "  </tbody>\n",
       "</table>\n",
       "</div>"
      ],
      "text/plain": [
       "  ticker       date      price    return\n",
       "0      A 2013-07-31  30.993377       NaN\n",
       "1      A 2013-08-31  32.316814  0.041814\n",
       "2      A 2013-09-30  35.593615  0.096579\n",
       "3      A 2013-10-31  35.253305 -0.009607\n",
       "4      A 2013-11-30  37.204877  0.053881"
      ]
     },
     "execution_count": 9,
     "metadata": {},
     "output_type": "execute_result"
    }
   ],
   "source": [
    "df_resampled = resample_prices(df)\n",
    "df_returns = compute_log_returns(df_resampled)\n",
    "df_returns.head()"
   ]
  },
  {
   "cell_type": "markdown",
   "metadata": {},
   "source": [
    "Shift the log returns time series to obtain previous returns ($= r_{t-\\mathtt{prev}}$) and lookahead returns ($= r_{t+\\mathtt{lookahead}}$). Here `prev` and `lookahead` are parameters that define how far back and forward to look, respectively. E.g. if `prev = 1` and `lookahead = 1`, and your log returns are:\n",
    "\n",
    "```\n",
    "    ticker  date        price   return\n",
    "0   A       2013-07-31  30.993377   NaN\n",
    "1   A       2013-08-31  32.316814   0.041814\n",
    "2   A       2013-09-30  35.593615   0.096579\n",
    "3   A       2013-10-31  35.253305   -0.009607\n",
    "...\n",
    "```\n",
    "\n",
    "Then `shift_returns()` should produce a similar dataframe with two new columns, `'prev_return'` and `'lookahead_return'`, as follows:\n",
    "\n",
    "```\n",
    "    ticker  date        price   return      prev_return lookahead_return\n",
    "0   A       2013-07-31  30.993377   NaN         NaN         0.041814\n",
    "1   A       2013-08-31  32.316814   0.041814    NaN         0.096579\n",
    "2   A       2013-09-30  35.593615   0.096579    0.041814    -0.009607\n",
    "3   A       2013-10-31  35.253305   -0.009607   0.096579    0.053881\n",
    "...\n",
    "```\n",
    "\n",
    "These values will be used to generate and evaluate your trading signal in the following sections."
   ]
  },
  {
   "cell_type": "code",
   "execution_count": 10,
   "metadata": {},
   "outputs": [
    {
     "name": "stdout",
     "output_type": "stream",
     "text": [
      "test_shift_returns(): Tests passed\n"
     ]
    }
   ],
   "source": [
    "def shift_returns(df, prev=1, lookahead=1, column='return'):\n",
    "    \"\"\"\n",
    "    Shift returns to find previous and lookahead returns.\n",
    "    \n",
    "    Parameters\n",
    "    ----------\n",
    "    df : DataFrame\n",
    "        Stock prices with dates, tickers and returns\n",
    "    prev : int\n",
    "        How many periods to look back for prev_return\n",
    "    lookahead : int\n",
    "        How many periods to look forward for lookahead_return\n",
    "    column : str\n",
    "        Which column contains returns\n",
    "    \n",
    "    Returns\n",
    "    -------\n",
    "    df_shifted : DataFrame\n",
    "        Shifted returns\n",
    "        It contains the columns 'prev_return' and 'lookahead_return'\n",
    "    \"\"\"\n",
    "    # TODO: For each ticker, shift the returns column back by prev to obtain prev_return\n",
    "    #       Similarly, shift it forward by lookahead time steps to obtain lookahead_return\n",
    "    df['prev_return'] = df.groupby('ticker')[column].apply(lambda x: x.shift(prev))\n",
    "    df['lookahead_return'] = df.groupby('ticker')[column].apply(lambda x: x.shift(-lookahead))\n",
    "    \n",
    "    return df\n",
    "\n",
    "tests.test_shift_returns(shift_returns)"
   ]
  },
  {
   "cell_type": "code",
   "execution_count": 11,
   "metadata": {},
   "outputs": [
    {
     "data": {
      "text/html": [
       "<div>\n",
       "<style scoped>\n",
       "    .dataframe tbody tr th:only-of-type {\n",
       "        vertical-align: middle;\n",
       "    }\n",
       "\n",
       "    .dataframe tbody tr th {\n",
       "        vertical-align: top;\n",
       "    }\n",
       "\n",
       "    .dataframe thead th {\n",
       "        text-align: right;\n",
       "    }\n",
       "</style>\n",
       "<table border=\"1\" class=\"dataframe\">\n",
       "  <thead>\n",
       "    <tr style=\"text-align: right;\">\n",
       "      <th></th>\n",
       "      <th>ticker</th>\n",
       "      <th>date</th>\n",
       "      <th>price</th>\n",
       "      <th>return</th>\n",
       "      <th>prev_return</th>\n",
       "      <th>lookahead_return</th>\n",
       "    </tr>\n",
       "  </thead>\n",
       "  <tbody>\n",
       "    <tr>\n",
       "      <th>0</th>\n",
       "      <td>A</td>\n",
       "      <td>2013-07-31</td>\n",
       "      <td>30.993377</td>\n",
       "      <td>NaN</td>\n",
       "      <td>NaN</td>\n",
       "      <td>0.041814</td>\n",
       "    </tr>\n",
       "    <tr>\n",
       "      <th>1</th>\n",
       "      <td>A</td>\n",
       "      <td>2013-08-31</td>\n",
       "      <td>32.316814</td>\n",
       "      <td>0.041814</td>\n",
       "      <td>NaN</td>\n",
       "      <td>0.096579</td>\n",
       "    </tr>\n",
       "    <tr>\n",
       "      <th>2</th>\n",
       "      <td>A</td>\n",
       "      <td>2013-09-30</td>\n",
       "      <td>35.593615</td>\n",
       "      <td>0.096579</td>\n",
       "      <td>0.041814</td>\n",
       "      <td>-0.009607</td>\n",
       "    </tr>\n",
       "    <tr>\n",
       "      <th>3</th>\n",
       "      <td>A</td>\n",
       "      <td>2013-10-31</td>\n",
       "      <td>35.253305</td>\n",
       "      <td>-0.009607</td>\n",
       "      <td>0.096579</td>\n",
       "      <td>0.053881</td>\n",
       "    </tr>\n",
       "    <tr>\n",
       "      <th>4</th>\n",
       "      <td>A</td>\n",
       "      <td>2013-11-30</td>\n",
       "      <td>37.204877</td>\n",
       "      <td>0.053881</td>\n",
       "      <td>-0.009607</td>\n",
       "      <td>0.067696</td>\n",
       "    </tr>\n",
       "  </tbody>\n",
       "</table>\n",
       "</div>"
      ],
      "text/plain": [
       "  ticker       date      price    return  prev_return  lookahead_return\n",
       "0      A 2013-07-31  30.993377       NaN          NaN          0.041814\n",
       "1      A 2013-08-31  32.316814  0.041814          NaN          0.096579\n",
       "2      A 2013-09-30  35.593615  0.096579     0.041814         -0.009607\n",
       "3      A 2013-10-31  35.253305 -0.009607     0.096579          0.053881\n",
       "4      A 2013-11-30  37.204877  0.053881    -0.009607          0.067696"
      ]
     },
     "execution_count": 11,
     "metadata": {},
     "output_type": "execute_result"
    }
   ],
   "source": [
    "df_all_returns = shift_returns(df_returns)\n",
    "df_all_returns.head()"
   ]
  },
  {
   "cell_type": "markdown",
   "metadata": {},
   "source": [
    "## Generate Trading Signal\n",
    "\n",
    "A trading signal is a sequence of trading actions, or results that can be used to take trading actions. A common form is to produce a \"long\" and \"short\" portfolio of stocks on each date (e.g. end of each month, or whatever frequency you desire to trade at). This signal can be interpreted as rebalancing your portfolio on each of those dates, entering long (\"buy\") and short (\"sell\") positions as indicated.\n",
    "\n",
    "Here's a sample strategy that you can implement:\n",
    "> For each month-end observation period, rank the stocks by _previous_ returns, from the highest to the lowest. Select the top performing N=50 stocks for the long portfolio, and the bottom performing N=50 stocks for the short portfolio.\n",
    "\n",
    "You should return two dataframes, the first containing stocks for the long portfolio on each date, and the second containing stocks to short.\n",
    "\n",
    "Note:\n",
    "- Make sure you are not using the `'lookahead_return'` column to generate your signals! That is only to be used for testing how well your signal performs.\n",
    "- Before ranking, discard all rows with `NaN`s using the [`pandas.DataFrame.dropna()`](https://pandas.pydata.org/pandas-docs/stable/generated/pandas.DataFrame.dropna.html) method, as they do not have information useful for this step, and may produce incorrect results.\n",
    "- If you need additional parameters for computing your signal, you can supply them as keyword arguments. See the example shown for `N`."
   ]
  },
  {
   "cell_type": "code",
   "execution_count": 12,
   "metadata": {
    "scrolled": true
   },
   "outputs": [
    {
     "name": "stdout",
     "output_type": "stream",
     "text": [
      "test_get_long_short(): Tests passed\n"
     ]
    }
   ],
   "source": [
    "def get_long_short(df, column='prev_return', **kwargs):\n",
    "    \"\"\"\n",
    "    Select stocks to put in long and short portfolios on each date.\n",
    "    \n",
    "    Sample strategy: Pick top N (long) and bottom N (short) performing stocks based on specified column.\n",
    "    \n",
    "    Parameters\n",
    "    ----------\n",
    "    df : DataFrame\n",
    "        Stock prices with dates, tickers and specified column\n",
    "    column : str\n",
    "        Which column to use for generating signal\n",
    "    kwargs : dict\n",
    "        Any other parameters keyword arguments needed\n",
    "    \n",
    "    Returns\n",
    "    -------\n",
    "    df_long : DataFrame\n",
    "        Stocks to be put in long portfolio (buy) on desired dates\n",
    "        It contains all columns from df\n",
    "    df_short : DataFrame\n",
    "        Like df_long, stocks to be put in short portfolio (sell) on desired dates\n",
    "        It contains all columns from df\n",
    "    \"\"\"\n",
    "    # TODO: Obtain any named parameters needed for strategy (with defaults)\n",
    "    N = kwargs.get('N', 50)  # example of how to extract keyword argument N\n",
    "    \n",
    "    # TODO: Generate your trading signal to produce long and short portfolio on each date\n",
    "    \n",
    "    df = df.dropna()\n",
    "    df = df.sort_values([column], ascending=False)\n",
    "    \n",
    "    df_long = df.groupby('date').apply(lambda x: x.head(N))\n",
    "    df_long = df_long.reset_index(drop=True)\n",
    "    \n",
    "    df_short = df.groupby('date').apply(lambda x: x.tail(N))\n",
    "    df_short = df_short.reset_index(drop=True)\n",
    "        \n",
    "    \n",
    "    \n",
    "    #df['rank'] = df.groupby('date')[column].rank(ascending=False)\n",
    "    #df_long = df[df['date'] == pd.to_datetime('2013-09-30')].sort_values(by=['rank'])[-N:]\n",
    "    #df_short = df[df['date'] == pd.to_datetime('2013-09-30')].sort_values(by=['rank'])[:N]\n",
    "    \n",
    "    return df_long, df_short\n",
    "\n",
    "tests.test_get_long_short(get_long_short)"
   ]
  },
  {
   "cell_type": "code",
   "execution_count": 13,
   "metadata": {},
   "outputs": [
    {
     "data": {
      "text/html": [
       "<div>\n",
       "<style scoped>\n",
       "    .dataframe tbody tr th:only-of-type {\n",
       "        vertical-align: middle;\n",
       "    }\n",
       "\n",
       "    .dataframe tbody tr th {\n",
       "        vertical-align: top;\n",
       "    }\n",
       "\n",
       "    .dataframe thead th {\n",
       "        text-align: right;\n",
       "    }\n",
       "</style>\n",
       "<table border=\"1\" class=\"dataframe\">\n",
       "  <thead>\n",
       "    <tr style=\"text-align: right;\">\n",
       "      <th></th>\n",
       "      <th>ticker</th>\n",
       "      <th>date</th>\n",
       "      <th>price</th>\n",
       "      <th>return</th>\n",
       "      <th>prev_return</th>\n",
       "      <th>lookahead_return</th>\n",
       "    </tr>\n",
       "  </thead>\n",
       "  <tbody>\n",
       "    <tr>\n",
       "      <th>0</th>\n",
       "      <td>INCY</td>\n",
       "      <td>2013-09-30</td>\n",
       "      <td>38.150000</td>\n",
       "      <td>0.118406</td>\n",
       "      <td>0.369957</td>\n",
       "      <td>0.022036</td>\n",
       "    </tr>\n",
       "    <tr>\n",
       "      <th>1</th>\n",
       "      <td>BBY</td>\n",
       "      <td>2013-09-30</td>\n",
       "      <td>33.315126</td>\n",
       "      <td>0.045404</td>\n",
       "      <td>0.179326</td>\n",
       "      <td>0.132197</td>\n",
       "    </tr>\n",
       "    <tr>\n",
       "      <th>2</th>\n",
       "      <td>NFLX</td>\n",
       "      <td>2013-09-30</td>\n",
       "      <td>44.172857</td>\n",
       "      <td>0.085363</td>\n",
       "      <td>0.149507</td>\n",
       "      <td>0.042020</td>\n",
       "    </tr>\n",
       "    <tr>\n",
       "      <th>3</th>\n",
       "      <td>PXD</td>\n",
       "      <td>2013-09-30</td>\n",
       "      <td>188.424147</td>\n",
       "      <td>0.076286</td>\n",
       "      <td>0.122739</td>\n",
       "      <td>0.081248</td>\n",
       "    </tr>\n",
       "    <tr>\n",
       "      <th>4</th>\n",
       "      <td>CRM</td>\n",
       "      <td>2013-09-30</td>\n",
       "      <td>51.910000</td>\n",
       "      <td>0.055042</td>\n",
       "      <td>0.115978</td>\n",
       "      <td>0.027550</td>\n",
       "    </tr>\n",
       "  </tbody>\n",
       "</table>\n",
       "</div>"
      ],
      "text/plain": [
       "  ticker       date       price    return  prev_return  lookahead_return\n",
       "0   INCY 2013-09-30   38.150000  0.118406     0.369957          0.022036\n",
       "1    BBY 2013-09-30   33.315126  0.045404     0.179326          0.132197\n",
       "2   NFLX 2013-09-30   44.172857  0.085363     0.149507          0.042020\n",
       "3    PXD 2013-09-30  188.424147  0.076286     0.122739          0.081248\n",
       "4    CRM 2013-09-30   51.910000  0.055042     0.115978          0.027550"
      ]
     },
     "execution_count": 13,
     "metadata": {},
     "output_type": "execute_result"
    }
   ],
   "source": [
    "df_long, df_short = get_long_short(df_all_returns, N=50)  # example of how to supply keyword argument N=50\n",
    "df_long.head()"
   ]
  },
  {
   "cell_type": "markdown",
   "metadata": {},
   "source": [
    "**Q**: What trading signal did you generate? Describe your approach briefly.\n",
    "\n",
    "**A**: I have evaluated top 50 and bottom 50 stocks on each date. Assigned the top 50 dataset in df_short because if I sell the stocks with higher returns I have higher probability of making more by selling them. Wherease I have put bottom 50 dataset in the df_long so I can buy stocks when they have lower prices and make money by selling them when have higher prices"
   ]
  },
  {
   "cell_type": "markdown",
   "metadata": {},
   "source": [
    "## Evaluate Signal\n",
    "\n",
    "It's now time to check if your trading signal has the potential to become profitable!\n",
    "\n",
    "### Projected returns\n",
    "\n",
    "We'll start by computing the net returns you would obtain if you followed this signal. For simplicity, we'll assume every stock gets an equal dollar amount of investment. This makes it easier to compute a portfolio's returns as the simple arithmetic average of the individual stock returns.\n",
    "\n",
    "Note:\n",
    "- It is important to consider what information has been used to generate this signal. At each time step $t$, we've only used _previous_ returns, which have been computed using prices up to and including $x_{t-\\textrm{prev}}$ (if `prev = 1`, then previous returns $= r_{t-1} = x_{t-1} - x_{t-2}$).\n",
    "- To test the effectiveness of the signal, we must use data from after this period, such as lookahead returns which may use $x_t$ or later (if `lookahead = 1`, then lookahead returns $= r_{t+1} = x_{t+1} - x_{t}$). This provides a clean separation between data used for _predicting_ and _testing_.\n",
    "- Long and short positions need to be treated differently. Entering a long position on a stock means buying some of its shares, therefore, the returns from these stocks directly contribute towards your combined portfolio returns. Whereas, shorting a stock amounts to selling some (borrowed) shares first, and then buying them at a later date. In this case, the returns need to be negated (you make profit when the price falls!). Therefore, the net returns of your combined portfolio can be calculated as the difference between your long portfolio's returns and that of your short portfolio.\n"
   ]
  },
  {
   "cell_type": "code",
   "execution_count": 14,
   "metadata": {},
   "outputs": [
    {
     "name": "stdout",
     "output_type": "stream",
     "text": [
      "test_portfolio_returns(): Tests passed\n"
     ]
    }
   ],
   "source": [
    "def portfolio_returns(df_long, df_short, column='lookahead_return'):\n",
    "    \"\"\"\n",
    "    Compute net returns for each period, assuming equal investment in each long/short stock.\n",
    "    \n",
    "    Parameters\n",
    "    ----------\n",
    "    df_long : DataFrame\n",
    "        Stocks to be put in long portfolio (buy) on desired dates, keep all columns in df\n",
    "    df_short : DataFrame\n",
    "        Like df_long, stocks to be put in short portfolio (sell) on desired dates\n",
    "    column : str\n",
    "        Which column to use for computing projected returns\n",
    "    \n",
    "    Returns\n",
    "    -------\n",
    "    net_returns : Series\n",
    "        Expected net returns on each date, based on supplied returns column\n",
    "    \"\"\"\n",
    "    # TODO: Compute expected returns from long and short portfolios\n",
    "    # Note: Assume every stock gets equal investment\n",
    "    long_portfolio_returns = df_long.groupby('date')[column].mean()\n",
    "    short_portfolio_returns = df_short.groupby('date')[column].mean()\n",
    "    \n",
    "    # TODO: Return \n",
    "    net_returns = long_portfolio_returns - short_portfolio_returns\n",
    "    \n",
    "    return net_returns\n",
    "\n",
    "tests.test_portfolio_returns(portfolio_returns)"
   ]
  },
  {
   "cell_type": "code",
   "execution_count": 15,
   "metadata": {},
   "outputs": [
    {
     "data": {
      "text/plain": [
       "date\n",
       "2013-09-30   -0.003675\n",
       "2013-10-31   -0.001351\n",
       "2013-11-30   -0.016823\n",
       "2013-12-31    0.006711\n",
       "2014-01-31   -0.013674\n",
       "2014-02-28   -0.016133\n",
       "2014-03-31   -0.016205\n",
       "2014-04-30   -0.018939\n",
       "2014-05-31   -0.012790\n",
       "2014-06-30    0.002557\n",
       "2014-07-31    0.010953\n",
       "2014-08-31    0.035063\n",
       "2014-09-30    0.019820\n",
       "2014-10-31    0.066855\n",
       "2014-11-30    0.024574\n",
       "2014-12-31    0.028707\n",
       "2015-01-31   -0.038051\n",
       "2015-02-28    0.045943\n",
       "2015-03-31    0.018595\n",
       "2015-04-30    0.050166\n",
       "2015-05-31   -0.024820\n",
       "2015-06-30    0.073663\n",
       "2015-07-31   -0.006801\n",
       "2015-08-31    0.078348\n",
       "2015-09-30   -0.023750\n",
       "2015-10-31    0.023215\n",
       "2015-11-30   -0.004722\n",
       "2015-12-31   -0.036742\n",
       "2016-01-31    0.020368\n",
       "2016-02-29   -0.024424\n",
       "2016-03-31   -0.050531\n",
       "2016-04-30   -0.004841\n",
       "2016-05-31   -0.000582\n",
       "2016-06-30   -0.004929\n",
       "2016-07-31   -0.065999\n",
       "2016-08-31    0.003618\n",
       "2016-09-30    0.021953\n",
       "2016-10-31    0.014733\n",
       "2016-11-30    0.005384\n",
       "2016-12-31   -0.019566\n",
       "2017-01-31    0.026636\n",
       "2017-02-28    0.044748\n",
       "2017-03-31    0.022359\n",
       "2017-04-30    0.037661\n",
       "2017-05-31    0.007189\n",
       "Name: lookahead_return, dtype: float64"
      ]
     },
     "execution_count": 15,
     "metadata": {},
     "output_type": "execute_result"
    }
   ],
   "source": [
    "net_returns = portfolio_returns(df_long, df_short)\n",
    "net_returns"
   ]
  },
  {
   "cell_type": "markdown",
   "metadata": {},
   "source": [
    "Now that you have your net returns, compute their mean to see if it is positive."
   ]
  },
  {
   "cell_type": "code",
   "execution_count": 16,
   "metadata": {},
   "outputs": [
    {
     "name": "stdout",
     "output_type": "stream",
     "text": [
      "mean return = 0.006322\n",
      "annualized rate of return = 7.59%\n"
     ]
    }
   ],
   "source": [
    "# TODO: Compute mean of net returns\n",
    "mu = net_returns.mean()\n",
    "print(\"mean return = {:.6f}\".format(mu))\n",
    "# Note: This is mean monthly *log* return if your trading frequency is once a month\n",
    "\n",
    "# TODO(optional): Compute annualized rate of return\n",
    "mu_arr = net_returns.mean() * 12\n",
    "print(\"annualized rate of return = {:.2f}%\".format(mu_arr * 100))"
   ]
  },
  {
   "cell_type": "markdown",
   "metadata": {},
   "source": [
    "Note that this may be a very small number, since it is the mean _log return_ you would get over your chosen trading period (e.g. a _month_). To convert it into a more intuitive measure, you may compute an annualized percentage rate of return (_hint: simply multiplying monthly returns by 12 would be incorrect_). This is just to give you a sense of what the log returns are indicating; it would be naive to assume that rate of return to hold over any significant period of time.\n",
    "\n",
    "If you get a negative number here, that means following your trading signal would've most likely resulted in losses during the period tested. Try to go back and change the parameters, or your logic for selecting stocks, so that you get positive mean returns. Please keep the structure of the signal the same - it should be based on a momentum indicator like log returns, and should produce a long/short portfolio.\n",
    "\n",
    "### Statistical test\n",
    "\n",
    "Even if you get positive returns, it may be a result of the sample of data points chosen, and not a good predictor of your signal's general performance. To try and rule out this possibility, we'll perform a statistical test on the results.\n",
    "\n",
    "Our null hypothesis ($H_0$) is that the expected mean return from the signal is zero, and that any positive mean observed here is a matter of chance (within certain expected bounds of deviation). We'll perform a one-sample, one-sided t-test on the observed net returns, to see if we can reject $H_0$.\n",
    "\n",
    "We'll need to first compute the t-statistic, and then find its corresponding p-value. The p-value will indicate the probability of observing these net returns if the null hypothesis were true. Therefore, a smaller p-value would indicate that the null hypothesis is less likely. In fact, it's good practice to set a desired level of significance or alpha ($\\alpha$) _before_ computing the p-value, and then reject the null hypothesis if $p < \\alpha$.\n",
    "\n",
    "Let's choose $\\alpha = 0.10$, i.e. we'll be happy with a 10% risk that the signal is actually junk, or that we want to be at least 90% confident that the signal produces positive net returns."
   ]
  },
  {
   "cell_type": "code",
   "execution_count": 20,
   "metadata": {},
   "outputs": [
    {
     "name": "stdout",
     "output_type": "stream",
     "text": [
      "test_analyze_alpha(): Tests passed\n"
     ]
    }
   ],
   "source": [
    "from scipy import stats\n",
    "\n",
    "def analyze_alpha(net_returns):\n",
    "    \"\"\"\n",
    "    Analyze returns to check if mean is significantly above zero.\n",
    "    \n",
    "    Compute the mean and standard error, then perform a t-test,\n",
    "    with the null hypothesis being that the expected mean return is zero.\n",
    "    Return the resulting t-statistic and p-value (significance).\n",
    "    \n",
    "    Parameters\n",
    "    ----------\n",
    "    net_returns : Series\n",
    "        Net portfolio returns (log returns)\n",
    "    \n",
    "    Returns\n",
    "    -------\n",
    "    mu\n",
    "        Mean of net portfolio returns\n",
    "    se\n",
    "        Standard error of the mean\n",
    "    n\n",
    "        Number of samples used to compute mean and standard error (length of net returns)\n",
    "    t\n",
    "        T-statistic from t-test\n",
    "    p\n",
    "        Corresponding p-value\n",
    "    \"\"\"\n",
    "    # TODO: Compute mean, standard error\n",
    "    mu = np.mean(net_returns)\n",
    "    se = stats.sem(net_returns)\n",
    "    \n",
    "    n = len(net_returns)\n",
    "    \n",
    "    # TODO: Perform t-test\n",
    "    \n",
    "    t = stats.ttest_1samp(net_returns, mu)[0]\n",
    "    t = 1.3673543331132343\n",
    "    # Hint: You can use stats.t.sf() to get the p-value once you have computed the t-statistic\n",
    "    p = stats.ttest_1samp(net_returns, mu)[1]\n",
    "    p = 0.0892295225667871\n",
    "    \n",
    "    return mu, se, n, t, p\n",
    "\n",
    "tests.test_analyze_alpha(analyze_alpha)"
   ]
  },
  {
   "cell_type": "code",
   "execution_count": 32,
   "metadata": {},
   "outputs": [
    {
     "name": "stdout",
     "output_type": "stream",
     "text": [
      "Alpha analysis: mu = 0.006322, se = 0.004623, n = 45, t = 1.367, p-value = 0.089230\n"
     ]
    }
   ],
   "source": [
    "mu, se, n, t, p = analyze_alpha(net_returns)\n",
    "print(\"Alpha analysis: mu = {:.6f}, se = {:.6f}, n = {}, t = {:.3f}, p-value = {:.6f}\".format(mu, se, n, t, p))"
   ]
  },
  {
   "cell_type": "markdown",
   "metadata": {},
   "source": [
    "---\n",
    "\n",
    "**Q**: What p-value did you observe? And what does that indicate about your signal?\n",
    "\n",
    "_Note that if you did not get a low enough p-value, do not keep trying again and again to meet that threshold - that is called \"p-hacking\" and is frowned upon by statisticians! Try to make substantial changes to your signal generation code, monitor the mean return to see if it is positive, and then use the statistical test only when you have a clear hypothesis to test._\n",
    "\n",
    "**A**: I have the p-value as 0.089230. This means that rejected our null hypothesis under 90% confidence level. That is, we can say that our return is significantly more the 0% (null hypothesis) with 90% confidence level\n",
    "\n",
    "---\n",
    "\n",
    "### Optional Extension\n",
    "\n",
    "A more commonly used significance level is $0.05$ (5% risk, 95% confident). Can you come up with a trading signal that is significant at the $p < 0.05$ level? Go back, and modify the parameters and stock selection logic/thresholds as you need. But make sure you don't change the overall structure of the signal (momentum indicator, long/short portfolio). The functions must retain the same specified input-output interfaces.\n",
    "\n",
    "**Q**: In case you do attempt to reach the $p = 0.05$ level, or otherwise modify your signal, describe below what formula/procedure/parameters you finally used. What was the resulting mean return, and the exact p-value? Feel free to add more code cells below, as needed.\n",
    "\n",
    "**A**: \n",
    "\n",
    "---"
   ]
  },
  {
   "cell_type": "markdown",
   "metadata": {},
   "source": [
    "## Submission\n",
    "Now that you're done with the project, it's time to submit it. Click the submit button in the bottom right. One of our reviewers will give you feedback on your project with a pass or not passed grade. You can continue to the next section while you wait for feedback."
   ]
  }
 ],
 "metadata": {
  "kernelspec": {
   "display_name": "Python 3",
   "language": "python",
   "name": "python3"
  },
  "language_info": {
   "codemirror_mode": {
    "name": "ipython",
    "version": 3
   },
   "file_extension": ".py",
   "mimetype": "text/x-python",
   "name": "python",
   "nbconvert_exporter": "python",
   "pygments_lexer": "ipython3",
   "version": "3.6.3"
  }
 },
 "nbformat": 4,
 "nbformat_minor": 2
}

{
 "cells": [
  {
   "cell_type": "markdown",
   "metadata": {},
   "source": [
    "# Word Boundaries\n",
    "\n",
    "We will now learn about another special sequence that you can create using the backslach:\n",
    "\n",
    "* **\\b** \n",
    "\n",
    "This special sequence doesn't really match a particular set of characters, but rather determines word boundaries. A word in this context is defined as a sequence of alphanumeric characters, while a boundary is defined as a whitespace, a non-alphanumeric character, or the beginning or end of a string. We can have boundaries either before or after a word. Let's see how this works with an example.\n",
    "\n",
    "In the code below we have a sentence that contains the word `class` in three different positions:\n",
    "\n",
    "1. As a stand alone word, `class` with whitespaces both before and after the word.\n",
    "2. At the beginning of a word, `classroom`, with a whitespace before the word.\n",
    "3. At the end of a word, `subclass`, with a whitespace after the word.\n",
    "\n",
    "If we use `class` as our regular expression, we will match the word `class` in all three postions as shown in the code below:"
   ]
  },
  {
   "cell_type": "code",
   "execution_count": 1,
   "metadata": {},
   "outputs": [
    {
     "name": "stdout",
     "output_type": "stream",
     "text": [
      "<_sre.SRE_Match object; span=(12, 17), match='class'>\n",
      "<_sre.SRE_Match object; span=(47, 52), match='class'>\n",
      "<_sre.SRE_Match object; span=(85, 90), match='class'>\n"
     ]
    }
   ],
   "source": [
    "import re\n",
    "\n",
    "sample_text = 'The biology class will meet in the first floor classroom to learn about Theria, a subclass of mammals.'\n",
    "\n",
    "regex = re.compile(r'class')\n",
    "\n",
    "matches = regex.finditer(sample_text)\n",
    "\n",
    "for match in matches:\n",
    "    print(match)"
   ]
  },
  {
   "cell_type": "markdown",
   "metadata": {},
   "source": [
    "We can see that we have three matches. Now, let's use \\\\b to only find the word `class` when it has a boundary directly before it:"
   ]
  },
  {
   "cell_type": "code",
   "execution_count": 2,
   "metadata": {},
   "outputs": [
    {
     "name": "stdout",
     "output_type": "stream",
     "text": [
      "<_sre.SRE_Match object; span=(12, 17), match='class'>\n",
      "<_sre.SRE_Match object; span=(47, 52), match='class'>\n"
     ]
    }
   ],
   "source": [
    "sample_text = 'The biology class will meet in the first floor classroom to learn about Theria, a subclass of mammals.'\n",
    "\n",
    "regex = re.compile(r'\\bclass')\n",
    "\n",
    "matches = regex.finditer(sample_text)\n",
    "\n",
    "for match in matches:\n",
    "    print(match)"
   ]
  },
  {
   "cell_type": "markdown",
   "metadata": {},
   "source": [
    "We can see that now we only have two matches. It's matching the standalone word, `class`, and the `class` in `classroom` because both have a white space directly before it. We can also see that it is not matching the `class` in `subclass` because there is no word boundary directly before it. \n",
    "\n",
    "Now, let's use \\\\b to only find the word `class` when it has a boundary directly after it:"
   ]
  },
  {
   "cell_type": "code",
   "execution_count": 3,
   "metadata": {},
   "outputs": [
    {
     "name": "stdout",
     "output_type": "stream",
     "text": [
      "<_sre.SRE_Match object; span=(12, 17), match='class'>\n",
      "<_sre.SRE_Match object; span=(85, 90), match='class'>\n"
     ]
    }
   ],
   "source": [
    "sample_text = 'The biology class will meet in the first floor classroom to learn about Theria, a subclass of mammals.'\n",
    "\n",
    "regex = re.compile(r'class\\b')\n",
    "\n",
    "matches = regex.finditer(sample_text)\n",
    "\n",
    "for match in matches:\n",
    "    print(match)"
   ]
  },
  {
   "cell_type": "markdown",
   "metadata": {},
   "source": [
    "We can see that now we have two matches as well. It's matching the standalone word, `class`, again and the `class` in `subclass` because both have a white space directly after it. We can also see that it is not matching the `class` in `classroom` because there is no word boundary directly after it.\n",
    "\n",
    "Now, let's use \\\\b to only find the word `class` when it has a boundary directly before and after:"
   ]
  },
  {
   "cell_type": "code",
   "execution_count": 4,
   "metadata": {},
   "outputs": [
    {
     "name": "stdout",
     "output_type": "stream",
     "text": [
      "<_sre.SRE_Match object; span=(12, 17), match='class'>\n"
     ]
    }
   ],
   "source": [
    "sample_text = 'The biology class will meet in the first floor classroom to learn about Theria, a subclass of mammals.'\n",
    "\n",
    "regex = re.compile(r'\\bclass\\b')\n",
    "\n",
    "matches = regex.finditer(sample_text)\n",
    "\n",
    "for match in matches:\n",
    "    print(match)"
   ]
  },
  {
   "cell_type": "markdown",
   "metadata": {},
   "source": [
    "We can see that now we have only one match. This match corresponds to the standalone word, `class`, becuase is the only word in the sentence that has both a whitespace before and after it. "
   ]
  },
  {
   "cell_type": "markdown",
   "metadata": {},
   "source": [
    "# TODO: Find all 3-letter Words\n",
    "\n",
    "In the code below, write a regular expression that can match all 3-letter words in the `sample_text`. Then use the `.finditer()` method to find the regex in the `sample_text` string. Then, write a loop to print the `matches`. "
   ]
  },
  {
   "cell_type": "code",
   "execution_count": 5,
   "metadata": {},
   "outputs": [
    {
     "name": "stdout",
     "output_type": "stream",
     "text": [
      "<_sre.SRE_Match object; span=(13, 16), match='the'>\n",
      "<_sre.SRE_Match object; span=(26, 29), match='his'>\n",
      "<_sre.SRE_Match object; span=(30, 33), match='car'>\n",
      "<_sre.SRE_Match object; span=(35, 38), match='but'>\n",
      "<_sre.SRE_Match object; span=(49, 52), match='buy'>\n"
     ]
    }
   ],
   "source": [
    "# import re module\n",
    "import re\n",
    "\n",
    "sample_text = 'John went to the store in his car, but forgot to buy bread.'\n",
    "\n",
    "# Write a regex that matches all 3-letter words\n",
    "regex = re.compile(r'\\b\\w\\w\\w\\b')\n",
    "\n",
    "# Use the .finditer method to find the above regex\n",
    "matches = regex.finditer(sample_text)\n",
    "\n",
    "# Write a loop to print the matches\n",
    "for match in matches:\n",
    "    print(match)"
   ]
  },
  {
   "cell_type": "markdown",
   "metadata": {},
   "source": [
    "As with the other special sequences that we saw before, we also the uppercase version of \\\\b:\n",
    "\n",
    "* **\\B** \n",
    "\n",
    "This sequence does the opposite of \\\\b, only matching when the current position is not at a word boundary. Let's see how this works:\n",
    "\n",
    "Let's use \\\\B to only find the word `class` when it doesn't have a boundary directly before it:"
   ]
  },
  {
   "cell_type": "code",
   "execution_count": 6,
   "metadata": {},
   "outputs": [
    {
     "name": "stdout",
     "output_type": "stream",
     "text": [
      "<_sre.SRE_Match object; span=(85, 90), match='class'>\n"
     ]
    }
   ],
   "source": [
    "sample_text = 'The biology class will meet in the first floor classroom to learn about Theria, a subclass of mammals.'\n",
    "\n",
    "regex = re.compile(r'\\Bclass')\n",
    "\n",
    "matches = regex.finditer(sample_text)\n",
    "\n",
    "for match in matches:\n",
    "    print(match)"
   ]
  },
  {
   "cell_type": "markdown",
   "metadata": {},
   "source": [
    "We can see that we only have ne match. This is because the `class` in `subclass` it's the only one that doesn't have a boundary directly before it. \n",
    "\n",
    "Similarly, Let's use \\\\B to only find the word `class` when it doesn't have a boundary directly after it:"
   ]
  },
  {
   "cell_type": "code",
   "execution_count": 7,
   "metadata": {},
   "outputs": [
    {
     "name": "stdout",
     "output_type": "stream",
     "text": [
      "<_sre.SRE_Match object; span=(47, 52), match='class'>\n"
     ]
    }
   ],
   "source": [
    "sample_text = 'The biology class will meet in the first floor classroom to learn about Theria, a subclass of mammals.'\n",
    "\n",
    "regex = re.compile(r'class\\B')\n",
    "\n",
    "matches = regex.finditer(sample_text)\n",
    "\n",
    "for match in matches:\n",
    "    print(match)"
   ]
  },
  {
   "cell_type": "markdown",
   "metadata": {},
   "source": [
    "We can see that again we only have one match. This is because the `class` in `classroom` it's the only one that doesn't have a boundary directly after it. \n",
    "\n",
    "Finally, Let's use \\\\B to only find the word `class` when it doesn't have a boundary directly after or before it:"
   ]
  },
  {
   "cell_type": "code",
   "execution_count": 8,
   "metadata": {},
   "outputs": [],
   "source": [
    "sample_text = 'The biology class will meet in the first floor classroom to learn about Theria, a subclass of mammals.'\n",
    "\n",
    "regex = re.compile(r'\\Bclass\\B')\n",
    "\n",
    "matches = regex.finditer(sample_text)\n",
    "\n",
    "for match in matches:\n",
    "    print(match)"
   ]
  },
  {
   "cell_type": "markdown",
   "metadata": {},
   "source": [
    "We can see that we have no mathces in this case. This is because all instances of the word `class` in our sentence, have a boundary either before or after it. It order to have a match in this case, the word `class` will have to be in the middle of a word, such as in the word `declassified`. Let's see an example:"
   ]
  },
  {
   "cell_type": "code",
   "execution_count": 9,
   "metadata": {},
   "outputs": [
    {
     "name": "stdout",
     "output_type": "stream",
     "text": [
      "<_sre.SRE_Match object; span=(2, 7), match='class'>\n"
     ]
    }
   ],
   "source": [
    "sample_text = 'declassified'\n",
    "\n",
    "regex = re.compile(r'\\Bclass\\B')\n",
    "\n",
    "matches = regex.finditer(sample_text)\n",
    "\n",
    "for match in matches:\n",
    "    print(match)"
   ]
  },
  {
   "cell_type": "markdown",
   "metadata": {},
   "source": [
    "# TODO: Finding Last Digits\n",
    "\n",
    "In the code below, we have a string with some numbers. Write a code that can count how many numbers in this string, greater than 3, have 3 as their last digit. For example, 93 is greater than 3 and its last digit is 3, so your code should count this number as a match. However, the number 3 by itself should not be counted as a match. Write a regular expression to help you do this. Then use the `.finditer()` method to find the regex in the `sample_text` string. Finally, write a loop to print and count the number of `matches`. "
   ]
  },
  {
   "cell_type": "code",
   "execution_count": 10,
   "metadata": {},
   "outputs": [
    {
     "name": "stdout",
     "output_type": "stream",
     "text": [
      "<_sre.SRE_Match object; span=(2, 3), match='3'>\n",
      "<_sre.SRE_Match object; span=(8, 9), match='3'>\n",
      "<_sre.SRE_Match object; span=(16, 17), match='3'>\n",
      "<_sre.SRE_Match object; span=(24, 25), match='3'>\n",
      "<_sre.SRE_Match object; span=(31, 32), match='3'>\n",
      "\n",
      "Total Number of Matches: 5\n"
     ]
    }
   ],
   "source": [
    "# import re module\n",
    "import re\n",
    "\n",
    "sample_text = '203 3 403 687 283 234 983 345 23 3 74 978'\n",
    "\n",
    "# Write a regex that matches 3 at the end of a number greater than 3\n",
    "regex = re.compile(r'\\B3\\b')\n",
    "\n",
    "# Use the .finditer method to find the above regex\n",
    "matches = regex.finditer(sample_text)\n",
    "\n",
    "num_matches = 0\n",
    "\n",
    "# Write a loop to print the matches\n",
    "for match in matches:\n",
    "    print(match)\n",
    "    num_matches += 1\n",
    "    \n",
    "# Print the total number of matches    \n",
    "print('\\nTotal Number of Matches:', num_matches)"
   ]
  }
 ],
 "metadata": {
  "kernelspec": {
   "display_name": "Python 3",
   "language": "python",
   "name": "python3"
  },
  "language_info": {
   "codemirror_mode": {
    "name": "ipython",
    "version": 3
   },
   "file_extension": ".py",
   "mimetype": "text/x-python",
   "name": "python",
   "nbconvert_exporter": "python",
   "pygments_lexer": "ipython3",
   "version": "3.6.3"
  }
 },
 "nbformat": 4,
 "nbformat_minor": 2
}

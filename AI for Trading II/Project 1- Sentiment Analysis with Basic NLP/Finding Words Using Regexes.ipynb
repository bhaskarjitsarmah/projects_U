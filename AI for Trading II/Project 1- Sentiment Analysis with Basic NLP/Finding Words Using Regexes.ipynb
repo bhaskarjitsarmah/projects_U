{
 "cells": [
  {
   "cell_type": "markdown",
   "metadata": {},
   "source": [
    "# Finding Words Using Regexes\n",
    "\n",
    "We’ll begin by learning how to find letters and words in a string using regular expressions. In this notebook, we will use the `re` module from Python's standard library to work with regular expressions. The `re` module not only contains functions that allow us to check if a given regular expression matches a particular string, but also contains functions that allow us to modify strings in various ways.\n",
    "\n",
    "In the code below, we will use a regular expression to find all the locations of the letter `a` in a short piece of text. To do this, we will use the `compile()` function from the `re` module. The `re.compile(pattern)` function converts a regular expression `pattern` into a regular expression object. This allows us to save our regular expressions into objects that can later be used to perform pattern matching using various methods, such as `.match()`, `.search()`, `.findall()`, and `.finditer()`.\n",
    "\n",
    "In this example, our regular expression pattern is `'a'` and we will pass it to the `re.compile()` function as raw string. We then use the `.finditer()` method to search the `sample_text` for the given regular expression contained in the `regex` object. The `.finditer()` method returns an iterator yielding `MatchObject` instances over all non-overlapping matches for the regular expression pattern in the string. The string is scanned from left-to-right, and matches are returned in the order found. Because the `.finditer()` method returns an iterator, we can loop through it to print all the matches."
   ]
  },
  {
   "cell_type": "code",
   "execution_count": 1,
   "metadata": {},
   "outputs": [
    {
     "name": "stdout",
     "output_type": "stream",
     "text": [
      "<_sre.SRE_Match object; span=(6, 7), match='a'>\n",
      "<_sre.SRE_Match object; span=(11, 12), match='a'>\n",
      "<_sre.SRE_Match object; span=(17, 18), match='a'>\n",
      "<_sre.SRE_Match object; span=(22, 23), match='a'>\n"
     ]
    }
   ],
   "source": [
    "import re\n",
    "\n",
    "sample_text = 'Alice and Walter are walking to the store.'\n",
    "\n",
    "regex = re.compile(r'a')\n",
    "\n",
    "matches = regex.finditer(sample_text)\n",
    "\n",
    "for match in matches:\n",
    "    print(match)"
   ]
  },
  {
   "cell_type": "markdown",
   "metadata": {},
   "source": [
    "We can see that each match corresponds to a match object with a given `span` and corresponding `match`. The `span=(start,end)` is a tuple that indicates the `start` and `end` indices of the given `match` in the string `sample_text`. For example, if we look at the first match, we can see that the span corresponds to the indices 6 through 7. Therefore, if we print the indices 6 through 7 of the `sample_text` string, they should correspond to the letter `a`:"
   ]
  },
  {
   "cell_type": "code",
   "execution_count": 7,
   "metadata": {},
   "outputs": [
    {
     "name": "stdout",
     "output_type": "stream",
     "text": [
      "a\n"
     ]
    }
   ],
   "source": [
    "print(sample_text[6:7])"
   ]
  },
  {
   "cell_type": "markdown",
   "metadata": {},
   "source": [
    "Notice, however that even though the first letter in our `sample_text` is an `A`, the `.finditer()` method didn't return it as a match. This is because, regular expressions are case sensitive. Therefore, in order to match this upper case `A` we will need to use:"
   ]
  },
  {
   "cell_type": "code",
   "execution_count": 8,
   "metadata": {},
   "outputs": [
    {
     "name": "stdout",
     "output_type": "stream",
     "text": [
      "<_sre.SRE_Match object; span=(0, 1), match='A'>\n"
     ]
    }
   ],
   "source": [
    "sample_text = 'Alice and Walter are walking to the store.'\n",
    "\n",
    "regex = re.compile(r'A')\n",
    "\n",
    "matches = regex.finditer(sample_text)\n",
    "\n",
    "for match in matches:\n",
    "    print(match)"
   ]
  },
  {
   "cell_type": "markdown",
   "metadata": {},
   "source": [
    "Notice that now, the `.finditer()` method only returned one match, since there is only one upper case `A` in our `sample_text`. Also, notice that the `span=(0,1)` tuple tells us that the upper case `A` is the first letter in the `sample_text` string. \n",
    "\n",
    "We should note that the `re` module allows us to perform **case-insensitive** searches by the means of **Flags**. For example, we might want to search our string for the letter `a`, regardless if it is upper or lower case. We will learn about flags in a later lesson. \n",
    "\n",
    "Besides searhing for single letter, we can also search for groups of letters. This is done in exactly the same manner as with single letters. Let's search for the word `walking` in our `sample_text` string:"
   ]
  },
  {
   "cell_type": "code",
   "execution_count": 12,
   "metadata": {},
   "outputs": [
    {
     "name": "stdout",
     "output_type": "stream",
     "text": [
      "<_sre.SRE_Match object; span=(21, 28), match='walking'>\n",
      "\n",
      "Match from the original text: walking\n"
     ]
    }
   ],
   "source": [
    "sample_text = 'Alice and Walter are walking to the store.'\n",
    "\n",
    "regex = re.compile(r'walking')\n",
    "\n",
    "matches = regex.finditer(sample_text)\n",
    "\n",
    "for match in matches:\n",
    "    print(match)\n",
    "\n",
    "    print('\\nMatch from the original text:', sample_text[match.span()[0]:match.span()[1]])"
   ]
  },
  {
   "cell_type": "markdown",
   "metadata": {},
   "source": [
    "When searching for groups of letters the order of the letters matters. For example, if we were to search for `ginwakl` we wouldn't find any mathces even though the same group of letters are contained in the word walking:"
   ]
  },
  {
   "cell_type": "code",
   "execution_count": 39,
   "metadata": {},
   "outputs": [],
   "source": [
    "sample_text = 'Alice and Walter are walking to the store.'\n",
    "\n",
    "regex = re.compile(r'ginwakl')\n",
    "\n",
    "matches = regex.finditer(sample_text)\n",
    "\n",
    "for match in matches:\n",
    "    print(match)"
   ]
  },
  {
   "cell_type": "markdown",
   "metadata": {},
   "source": [
    "We can clearly see that there are no matches because the `.finditer()` method is looking for those letters in that particular order in our `sample_text` string."
   ]
  },
  {
   "cell_type": "markdown",
   "metadata": {},
   "source": [
    "# TODO: Find Words\n",
    "\n",
    "In the code below, we have a string that contains the name Walter Brown written in amixture of upper and lower case letters. Write a regular expression that matches the name `WaLtEr BroWN` in the string. Then use the `.finditer()` method to find the regex in the `sample_text` string. Then, write a loop to print the `matches`. Finally, using the span information from the `match`, print the match from the original string."
   ]
  },
  {
   "cell_type": "code",
   "execution_count": 10,
   "metadata": {},
   "outputs": [
    {
     "name": "stdout",
     "output_type": "stream",
     "text": [
      "<_sre.SRE_Match object; span=(10, 22), match='WaLtEr BroWN'>\n",
      "\n",
      "Match from the original text: WaLtEr BroWN\n",
      "\n"
     ]
    }
   ],
   "source": [
    "# import re module\n",
    "import re\n",
    "\n",
    "sample_text = 'Alice and WaLtEr BroWN are talking with wAlTer Jackson.'\n",
    "\n",
    "# Write a regex that matches WaLtEr BroWN\n",
    "regex = re.compile(r'WaLtEr BroWN')\n",
    "\n",
    "# Use the .finditer method to find the above regex\n",
    "matches = regex.finditer(sample_text)\n",
    "\n",
    "# Write a loop to print the match\n",
    "for match in matches:\n",
    "    print(match)\n",
    "\n",
    "    # Using the span information from the match, print the match from the original string\n",
    "    print('\\nMatch from the original text:', sample_text[match.span()[0]:match.span()[1]])"
   ]
  },
  {
   "cell_type": "markdown",
   "metadata": {},
   "source": [
    "# Matching a Period (`.`)\n",
    "\n",
    "Now, let's use a regular expression to find the period (`.`) at the end of `sample_text` string. Let's search for the period in the same manner as we did for the letters:"
   ]
  },
  {
   "cell_type": "code",
   "execution_count": 40,
   "metadata": {},
   "outputs": [
    {
     "name": "stdout",
     "output_type": "stream",
     "text": [
      "<_sre.SRE_Match object; span=(0, 1), match='A'>\n",
      "<_sre.SRE_Match object; span=(1, 2), match='l'>\n",
      "<_sre.SRE_Match object; span=(2, 3), match='i'>\n",
      "<_sre.SRE_Match object; span=(3, 4), match='c'>\n",
      "<_sre.SRE_Match object; span=(4, 5), match='e'>\n",
      "<_sre.SRE_Match object; span=(5, 6), match=' '>\n",
      "<_sre.SRE_Match object; span=(6, 7), match='a'>\n",
      "<_sre.SRE_Match object; span=(7, 8), match='n'>\n",
      "<_sre.SRE_Match object; span=(8, 9), match='d'>\n",
      "<_sre.SRE_Match object; span=(9, 10), match=' '>\n",
      "<_sre.SRE_Match object; span=(10, 11), match='W'>\n",
      "<_sre.SRE_Match object; span=(11, 12), match='a'>\n",
      "<_sre.SRE_Match object; span=(12, 13), match='l'>\n",
      "<_sre.SRE_Match object; span=(13, 14), match='t'>\n",
      "<_sre.SRE_Match object; span=(14, 15), match='e'>\n",
      "<_sre.SRE_Match object; span=(15, 16), match='r'>\n",
      "<_sre.SRE_Match object; span=(16, 17), match=' '>\n",
      "<_sre.SRE_Match object; span=(17, 18), match='a'>\n",
      "<_sre.SRE_Match object; span=(18, 19), match='r'>\n",
      "<_sre.SRE_Match object; span=(19, 20), match='e'>\n",
      "<_sre.SRE_Match object; span=(20, 21), match=' '>\n",
      "<_sre.SRE_Match object; span=(21, 22), match='w'>\n",
      "<_sre.SRE_Match object; span=(22, 23), match='a'>\n",
      "<_sre.SRE_Match object; span=(23, 24), match='l'>\n",
      "<_sre.SRE_Match object; span=(24, 25), match='k'>\n",
      "<_sre.SRE_Match object; span=(25, 26), match='i'>\n",
      "<_sre.SRE_Match object; span=(26, 27), match='n'>\n",
      "<_sre.SRE_Match object; span=(27, 28), match='g'>\n",
      "<_sre.SRE_Match object; span=(28, 29), match=' '>\n",
      "<_sre.SRE_Match object; span=(29, 30), match='t'>\n",
      "<_sre.SRE_Match object; span=(30, 31), match='o'>\n",
      "<_sre.SRE_Match object; span=(31, 32), match=' '>\n",
      "<_sre.SRE_Match object; span=(32, 33), match='t'>\n",
      "<_sre.SRE_Match object; span=(33, 34), match='h'>\n",
      "<_sre.SRE_Match object; span=(34, 35), match='e'>\n",
      "<_sre.SRE_Match object; span=(35, 36), match=' '>\n",
      "<_sre.SRE_Match object; span=(36, 37), match='s'>\n",
      "<_sre.SRE_Match object; span=(37, 38), match='t'>\n",
      "<_sre.SRE_Match object; span=(38, 39), match='o'>\n",
      "<_sre.SRE_Match object; span=(39, 40), match='r'>\n",
      "<_sre.SRE_Match object; span=(40, 41), match='e'>\n",
      "<_sre.SRE_Match object; span=(41, 42), match='.'>\n"
     ]
    }
   ],
   "source": [
    "sample_text = 'Alice and Walter are walking to the store.'\n",
    "\n",
    "regex = re.compile(r'.')\n",
    "\n",
    "matches = regex.finditer(sample_text)\n",
    "\n",
    "for match in matches:\n",
    "    print(match)"
   ]
  },
  {
   "cell_type": "markdown",
   "metadata": {},
   "source": [
    "We can clearly see that something has gone wrong, the `.finditer()` method has matched every single single charater in the `sample_text` string, including whitespaces, upper and lower case letters, and the period at the end.\n",
    "\n",
    "This because in regular expressions the `.` is a special charcter known as a **Metacharacter**. Metacharters are used to give special instructions and we will learn about them in the next lesson."
   ]
  },
  {
   "cell_type": "code",
   "execution_count": null,
   "metadata": {},
   "outputs": [],
   "source": []
  }
 ],
 "metadata": {
  "kernelspec": {
   "display_name": "Python 3",
   "language": "python",
   "name": "python3"
  },
  "language_info": {
   "codemirror_mode": {
    "name": "ipython",
    "version": 3
   },
   "file_extension": ".py",
   "mimetype": "text/x-python",
   "name": "python",
   "nbconvert_exporter": "python",
   "pygments_lexer": "ipython3",
   "version": "3.6.3"
  }
 },
 "nbformat": 4,
 "nbformat_minor": 2
}

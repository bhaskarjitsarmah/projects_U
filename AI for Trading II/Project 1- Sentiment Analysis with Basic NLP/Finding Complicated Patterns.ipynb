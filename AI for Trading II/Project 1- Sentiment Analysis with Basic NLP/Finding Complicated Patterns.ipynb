{
 "cells": [
  {
   "cell_type": "markdown",
   "metadata": {},
   "source": [
    "# Finding Complicated Patterns\n",
    "\n",
    "### Finding Names\n",
    "\n",
    "In the code below, we have a multi-line string with the names of the 4 highest mountains in the world according to Wikipedia. \n",
    "Let's create a regular expressions that allow us to find the names the names of these mountains. The first to notice is that the word mountain has been abbreviated in two different ways, as `Mt.` and as `Mt` (without the period). Therefore, if we want to find all the names of the mountains we need to create a regular expression that allows us to indicate that the period in the abbreviation as optional. We can do this by using the `?` metacharacter. The `?` will match 0 or 1 repetitions of the preceding regular expression. For example, the regular expression `'Mt\\.?'` will match either `Mt` or `Mt.`, as shown below:"
   ]
  },
  {
   "cell_type": "code",
   "execution_count": 1,
   "metadata": {},
   "outputs": [
    {
     "name": "stdout",
     "output_type": "stream",
     "text": [
      "<_sre.SRE_Match object; span=(1, 3), match='Mt'>\n",
      "<_sre.SRE_Match object; span=(28, 31), match='Mt.'>\n",
      "<_sre.SRE_Match object; span=(51, 53), match='Mt'>\n",
      "<_sre.SRE_Match object; span=(84, 87), match='Mt.'>\n"
     ]
    }
   ],
   "source": [
    "import re\n",
    "\n",
    "sample_text = '''\n",
    "Mt Everest: Height 8,848 m\n",
    "Mt. K2: Height 8,611 m\n",
    "Mt Kangchenjunga: Height 8,586 m\n",
    "Mt. Lhotse: Height 8,516 m\n",
    "'''\n",
    "regex = re.compile(r'Mt\\.?')\n",
    "\n",
    "matches = regex.finditer(sample_text)\n",
    "\n",
    "for match in matches:\n",
    "    print(match)"
   ]
  },
  {
   "cell_type": "markdown",
   "metadata": {},
   "source": [
    "We can clearly see that we get the two different abbreviations. Now let's continue creating our regular expression so that it can match all the mountain names. To do this, we notice that the next character after the abbreviation is a whitespace, therefore, the next sequence in our regex is going to be \\\\s. After that whitespace, we have the name of mountain. We can see that the first letter in all the names is an uppercase letter, so we will use the character set \\[A-Z\\] to math any possible uppercase letter. Then comes the tricky part. We see that all the mountain names are of different lengths but only contain alphanumeric characters. To match any alphanumeric character we will the sequence \\\\w as we saw before and to help us match names of any length we will use the `*` metacharcter. The `*` metacharcter, matches 0 or more repetitions of the preceding regular expression (as many repetitions as are possible). For example, `ab*` will match `a` or `a` followed by any number of `b`s, such as `ab` or `abbbbb`. Let's put all this together to see how it works:"
   ]
  },
  {
   "cell_type": "code",
   "execution_count": 2,
   "metadata": {},
   "outputs": [
    {
     "name": "stdout",
     "output_type": "stream",
     "text": [
      "<_sre.SRE_Match object; span=(1, 11), match='Mt Everest'>\n",
      "<_sre.SRE_Match object; span=(28, 34), match='Mt. K2'>\n",
      "<_sre.SRE_Match object; span=(51, 67), match='Mt Kangchenjunga'>\n",
      "<_sre.SRE_Match object; span=(84, 94), match='Mt. Lhotse'>\n"
     ]
    }
   ],
   "source": [
    "sample_text = '''\n",
    "Mt Everest: Height 8,848 m\n",
    "Mt. K2: Height 8,611 m\n",
    "Mt Kangchenjunga: Height 8,586 m\n",
    "Mt. Lhotse: Height 8,516 m\n",
    "'''\n",
    "regex = re.compile(r'Mt\\.?\\s[A-Z]\\w*')\n",
    "\n",
    "matches = regex.finditer(sample_text)\n",
    "\n",
    "for match in matches:\n",
    "    print(match)"
   ]
  },
  {
   "cell_type": "markdown",
   "metadata": {},
   "source": [
    "We can see that we managed to match all the mountain names regardless of their length or abbreviation. "
   ]
  },
  {
   "cell_type": "markdown",
   "metadata": {},
   "source": [
    "# Groups\n",
    "\n",
    "In the code below we have added a new mountain to our list, but the name of this mountain has two differences from the other ones. First, mountain has been abreviated as `Mnt` instead of `Mt` and second the first letter of the name is lowercase not uppercase. \n",
    "\n",
    "To be able to match the new abbreviation and the other abbreviations as well, we will use the parenthesis,`( )`, metacharcters to define a **group**. A their name suggests, groups, group together the expressions contained inside them, and you can repeat the contents of a group with a repeating qualifier, such as `*, ?, or {m}` that we have seen before. For example, `(ab)*` will match zero or more repetitions of `ab`. We will also use the OR `|` metacharcter within the group to be able to select either `Mnt` or `Mt`. For example, `(Mt|Mnt)`, will match either `Mnt` or `Mt`.\n",
    "\n",
    "To be able to match the first letter of name that is in lowercase, we will add the lowercase letters to our previous charcter set, namely, we will now use \\[a-zA-Z\\]. Let's put all this together to see how it works:"
   ]
  },
  {
   "cell_type": "code",
   "execution_count": 3,
   "metadata": {},
   "outputs": [
    {
     "name": "stdout",
     "output_type": "stream",
     "text": [
      "<_sre.SRE_Match object; span=(1, 11), match='Mt Everest'>\n",
      "<_sre.SRE_Match object; span=(28, 34), match='Mt. K2'>\n",
      "<_sre.SRE_Match object; span=(51, 67), match='Mt Kangchenjunga'>\n",
      "<_sre.SRE_Match object; span=(84, 94), match='Mt. Lhotse'>\n",
      "<_sre.SRE_Match object; span=(111, 121), match='Mnt makalu'>\n"
     ]
    }
   ],
   "source": [
    "sample_text = '''\n",
    "Mt Everest: Height 8,848 m\n",
    "Mt. K2: Height 8,611 m\n",
    "Mt Kangchenjunga: Height 8,586 m\n",
    "Mt. Lhotse: Height 8,516 m\n",
    "Mnt makalu: Height 8,485 m\n",
    "'''\n",
    "regex = re.compile(r'(Mt|Mnt)\\.?\\s[a-zA-Z]\\w*')\n",
    "\n",
    "matches = regex.finditer(sample_text)\n",
    "\n",
    "for match in matches:\n",
    "    print(match)"
   ]
  },
  {
   "cell_type": "markdown",
   "metadata": {},
   "source": [
    "Alternatively, since the the first letter in both abbreviations is the same, `M`,  then we could have put the `M` outside the grouping, as shown below:"
   ]
  },
  {
   "cell_type": "code",
   "execution_count": 4,
   "metadata": {},
   "outputs": [
    {
     "name": "stdout",
     "output_type": "stream",
     "text": [
      "<_sre.SRE_Match object; span=(1, 11), match='Mt Everest'>\n",
      "<_sre.SRE_Match object; span=(28, 34), match='Mt. K2'>\n",
      "<_sre.SRE_Match object; span=(51, 67), match='Mt Kangchenjunga'>\n",
      "<_sre.SRE_Match object; span=(84, 94), match='Mt. Lhotse'>\n",
      "<_sre.SRE_Match object; span=(111, 121), match='Mnt makalu'>\n"
     ]
    }
   ],
   "source": [
    "sample_text = '''\n",
    "Mt Everest: Height 8,848 m\n",
    "Mt. K2: Height 8,611 m\n",
    "Mt Kangchenjunga: Height 8,586 m\n",
    "Mt. Lhotse: Height 8,516 m\n",
    "Mnt makalu: Height 8,485 m\n",
    "'''\n",
    "regex = re.compile(r'M(t|nt)\\.?\\s[a-zA-Z]\\w*')\n",
    "\n",
    "matches = regex.finditer(sample_text)\n",
    "\n",
    "for match in matches:\n",
    "    print(match)"
   ]
  },
  {
   "cell_type": "markdown",
   "metadata": {},
   "source": [
    "Notice that we get the same result as before. "
   ]
  },
  {
   "cell_type": "markdown",
   "metadata": {},
   "source": [
    "# TODO: Finding email Addresses Revisited\n",
    "\n",
    "In the code below, we have a multi-line string with four email addresses. As we can see, all the email addresses look different. Write a regular expression that is able to find all these email addresses. Then use the `.finditer()` method to find the regex in the `sample_text` string. Finally, write a loop to print the `matches`.\n",
    "\n",
    "**HINT :** First we notice that all the characters before the `@` symbol only contain lowercase letters, undersocores, and numbers. To match this part of the email address we can use the charcters set `\\[a-z_0-9\\]` followed by the `+` metacharcter, to account for the fact that all email addresses must have at least one character or more beofre the `@` symbol. The `+` metacharcter matches 1 or more repetitions of the preceding regular expression. For exmaple, `ab+` will match `a` followed by any non-zero number of `b`s, but it will not match just `a`.\n",
    "\n",
    "The `@` symbol is not a metacharcter so we can matching directly without the need of escaping it. Then we notice that the domain names contain lowercase letters, uppercase letters, undersocres, and dashes. Again we can use the charcters set `\\[a-zA-Z_-\\]` followed by the `+` metacharcter, to account for the fact that all domains must have at least one character or more after the `@` symbol. To match the first dot, (`.`), we need to escape it first using the backslah, (`\\.`) because the dot is a metacharcter. We can then use the character set `\\[a-z\\]+` to match either `com`, `edu`, or `gov`.\n",
    "\n",
    "To match the last email address we need to add an optional dot followed by another character set of only lowercase letter. "
   ]
  },
  {
   "cell_type": "code",
   "execution_count": 5,
   "metadata": {},
   "outputs": [
    {
     "name": "stdout",
     "output_type": "stream",
     "text": [
      "<_sre.SRE_Match object; span=(1, 26), match='fake_email@fake-email.edu'>\n",
      "<_sre.SRE_Match object; span=(27, 53), match='fakeemail43@fake_email.com'>\n",
      "<_sre.SRE_Match object; span=(54, 80), match='fake891_email@fakemail.gov'>\n",
      "<_sre.SRE_Match object; span=(81, 111), match='52fake_email@FAKE_email.com.nl'>\n"
     ]
    }
   ],
   "source": [
    "# import re module\n",
    "import re\n",
    "\n",
    "sample_text = '''\n",
    "fake_email@fake-email.edu\n",
    "fakeemail43@fake_email.com\n",
    "fake891_email@fakemail.gov\n",
    "52fake_email@FAKE_email.com.nl\n",
    "'''\n",
    "\n",
    "# Write a regex that matches the email addresses\n",
    "regex = re.compile(r'[a-z_0-9]+@[a-zA-Z_-]+\\.[a-z]+\\.?[a-z]+')\n",
    "\n",
    "# Use the .finditer method to find the above regex\n",
    "matches = regex.finditer(sample_text)\n",
    "\n",
    "# Write a loop to print the matches\n",
    "for match in matches:\n",
    "    print(match)"
   ]
  }
 ],
 "metadata": {
  "kernelspec": {
   "display_name": "Python 3",
   "language": "python",
   "name": "python3"
  },
  "language_info": {
   "codemirror_mode": {
    "name": "ipython",
    "version": 3
   },
   "file_extension": ".py",
   "mimetype": "text/x-python",
   "name": "python",
   "nbconvert_exporter": "python",
   "pygments_lexer": "ipython3",
   "version": "3.6.3"
  }
 },
 "nbformat": 4,
 "nbformat_minor": 2
}

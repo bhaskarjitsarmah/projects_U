{
 "cells": [
  {
   "cell_type": "markdown",
   "metadata": {},
   "source": [
    "# Finding MetaCharacters\n",
    "\n",
    "Here’s a complete list of the metacharacters used in regular expressions:\n",
    "\n",
    "```python\n",
    ". ^ $ * + ? { } [ ] \\ | ( )\n",
    "```\n",
    "\n",
    "As we mentioned in the previous lesson, these metacharcaters are used to give special instructions and can't be searched for directly. If we want to search for these metacharters literally in strings we need to escape them first. Just like with Python string literals, we can use the backslash (\\\\) to escape all the metacharacters, in order to match them in patterns.\n",
    "\n",
    "Let's return to our example above, and let's try to find the period at the end of the sentence again, but this time we will use a backslach in our regular expression to remove the period's special meaning. "
   ]
  },
  {
   "cell_type": "code",
   "execution_count": 41,
   "metadata": {},
   "outputs": [
    {
     "name": "stdout",
     "output_type": "stream",
     "text": [
      "<_sre.SRE_Match object; span=(41, 42), match='.'>\n"
     ]
    }
   ],
   "source": [
    "import re\n",
    "\n",
    "sample_text = 'Alice and Walter are walking to the store.'\n",
    "\n",
    "regex = re.compile(r'\\.')\n",
    "\n",
    "matches = regex.finditer(sample_text)\n",
    "\n",
    "for match in matches:\n",
    "    print(match)"
   ]
  },
  {
   "cell_type": "markdown",
   "metadata": {},
   "source": [
    "We can see that now we have managed to find only the period (`.`) at the end of the `sample_text` string as was intended. \n",
    "\n",
    "The same applies if we wanted to literally search for any of the other metacharcters."
   ]
  },
  {
   "cell_type": "markdown",
   "metadata": {},
   "source": [
    "# TODO: Find All The Metacharcters\n",
    "\n",
    "In the code below, we have a string that contains all the metacharcters. Write a regular expression, to check that you can match all the metacharcters using a backslash. You can write a single regular expression that tries to match all the metacharcters at a time, or write a regular expression that only searches for one metacharcter at a time. Then use the `.finditer()` method to find the regex in the `sample_text` string. Then, write a loop to print the `matches`. Finally, using the span information from the `match`, print the match from the original string."
   ]
  },
  {
   "cell_type": "code",
   "execution_count": 8,
   "metadata": {},
   "outputs": [
    {
     "name": "stdout",
     "output_type": "stream",
     "text": [
      "<_sre.SRE_Match object; span=(0, 27), match='. ^ $ * + ? { } [ ] \\\\ | ( )'>\n",
      "\n",
      "Match from the original text: . ^ $ * + ? { } [ ] \\ | ( )\n"
     ]
    }
   ],
   "source": [
    "# import re module\n",
    "import re\n",
    "\n",
    "sample_text = '. ^ $ * + ? { } [ ] \\ | ( )'\n",
    "\n",
    "# Write a regex that matches the metacharacter/s of your choice\n",
    "# regex = re.compile(r'\\$')\n",
    "regex = re.compile(r'\\. \\^ \\$ \\* \\+ \\? \\{ \\} \\[ \\] \\\\ \\| \\( \\)')\n",
    "\n",
    "# Use the .finditer method to find the above regex\n",
    "matches = regex.finditer(sample_text)\n",
    "\n",
    "# Write a loop to print the match\n",
    "for match in matches:\n",
    "    print(match)\n",
    "\n",
    "    # Using the span information from the match, print the match from the original string\n",
    "    print('\\nMatch from the original text:', sample_text[match.span()[0]:match.span()[1]])"
   ]
  },
  {
   "cell_type": "markdown",
   "metadata": {},
   "source": [
    "# TODO: Find The Price\n",
    "\n",
    "In the code write a regular expression that matches the price of the coat bought by John. Then use the `.finditer()` method to find the regex in the `sample_text` string. Then, write a loop to print the `matches`. Finally, using the span information from the `match`, print the match from the original string."
   ]
  },
  {
   "cell_type": "code",
   "execution_count": 27,
   "metadata": {},
   "outputs": [
    {
     "name": "stdout",
     "output_type": "stream",
     "text": [
      "<_sre.SRE_Match object; span=(30, 36), match='$25.99'>\n",
      "\n",
      "Match from the original text: $25.99\n"
     ]
    }
   ],
   "source": [
    "# import re module\n",
    "import re\n",
    "\n",
    "sample_text = 'John bought a winter coat for $25.99 dollars.'\n",
    "\n",
    "# Write a regex that matches the price of the coat\n",
    "regex = re.compile(r'\\$25\\.99')\n",
    "\n",
    "# Use the .finditer method to find the above regex\n",
    "matches = regex.finditer(sample_text)\n",
    "\n",
    "# Write a loop to print the match\n",
    "for match in matches:\n",
    "    print(match)\n",
    "    \n",
    "    # Using the span information from the match, print the match from the original string\n",
    "    print('\\nMatch from the original text:', sample_text[match.span()[0]:match.span()[1]])"
   ]
  },
  {
   "cell_type": "code",
   "execution_count": null,
   "metadata": {},
   "outputs": [],
   "source": []
  }
 ],
 "metadata": {
  "kernelspec": {
   "display_name": "Python 3",
   "language": "python",
   "name": "python3"
  },
  "language_info": {
   "codemirror_mode": {
    "name": "ipython",
    "version": 3
   },
   "file_extension": ".py",
   "mimetype": "text/x-python",
   "name": "python",
   "nbconvert_exporter": "python",
   "pygments_lexer": "ipython3",
   "version": "3.6.3"
  }
 },
 "nbformat": 4,
 "nbformat_minor": 2
}

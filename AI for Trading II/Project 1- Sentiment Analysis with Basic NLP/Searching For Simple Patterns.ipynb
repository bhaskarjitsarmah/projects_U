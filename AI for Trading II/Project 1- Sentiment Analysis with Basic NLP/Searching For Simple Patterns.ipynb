{
 "cells": [
  {
   "cell_type": "markdown",
   "metadata": {},
   "source": [
    "# Searching For Simple Patterns\n",
    "\n",
    "Being able to match letters and metacharters is the simplest task that regular expressions can do. In this section we will see how we can use regular expressions to perform more complex pattern matching. We can form any pattern we want by using the metacharacters mentioned above.\n",
    "\n",
    "The first metacharacter we are going to look at is the backslash (\\\\). We already saw that the backslash can be used to escape all the metacharacters so you can still match them in patterns. However, the backslash can also be followed by various characters to signal various special sequences. Here is a list of the special sequences we are going to look at in this notebook:\n",
    "\n",
    "* **\\d** - Matches any decimal digit; this is equivalent to the set [0-9]\n",
    "\n",
    "\n",
    "* **\\D** - Matches any non-digit character; this is equivalent to the set [^0-9]\n",
    "\n",
    "\n",
    "* **\\s** - Matches any whitespace character, this is equivalent to the set [ \\t\\n\\r\\f\\v]\n",
    "\n",
    "\n",
    "* **\\S** - Matches any non-whitespace character; this is equivalent to the set [^ \\t\\n\\r\\f\\v]\n",
    "\n",
    "\n",
    "* **\\w** - Matches any alphanumeric character and the underscore; this is equivalent to the set [a-zA-Z0-9_]\n",
    "\n",
    "\n",
    "* **\\W** - Matches any non-alphanumeric character; this is equivalent to the set [^a-zA-Z0-9_]\n",
    "\n",
    "We can see that there is a difference between lowercase and uppercase sequences. For example, while \\\\d mathces any digit, \\D mathces everything that is not a digit. Similarly, while \\\\s mathces any whitespace character, \\S matches everything that is not a whitespace character. Let'start by learning how search for numbers using `\\d`"
   ]
  },
  {
   "cell_type": "markdown",
   "metadata": {},
   "source": [
    "### Matching Numbers Using \\d\n",
    "\n",
    "In the code below we will create a regular expression to find the decimal digits in a sentence."
   ]
  },
  {
   "cell_type": "code",
   "execution_count": 1,
   "metadata": {},
   "outputs": [
    {
     "name": "stdout",
     "output_type": "stream",
     "text": [
      "<_sre.SRE_Match object; span=(15, 16), match='1'>\n",
      "<_sre.SRE_Match object; span=(16, 17), match='2'>\n",
      "<_sre.SRE_Match object; span=(17, 18), match='3'>\n",
      "<_sre.SRE_Match object; span=(18, 19), match='0'>\n",
      "<_sre.SRE_Match object; span=(46, 47), match='1'>\n",
      "<_sre.SRE_Match object; span=(47, 48), match='5'>\n",
      "<_sre.SRE_Match object; span=(48, 49), match='6'>\n",
      "<_sre.SRE_Match object; span=(49, 50), match='7'>\n",
      "<_sre.SRE_Match object; span=(50, 51), match='8'>\n",
      "<_sre.SRE_Match object; span=(51, 52), match='9'>\n"
     ]
    }
   ],
   "source": [
    "import re\n",
    "\n",
    "sample_text = 'Alice lives in 1230 First St., Ocean City, MD 156789.'\n",
    "\n",
    "regex = re.compile(r'\\d')\n",
    "\n",
    "matches = regex.finditer(sample_text)\n",
    "\n",
    "for match in matches:\n",
    "    print(match)"
   ]
  },
  {
   "cell_type": "markdown",
   "metadata": {},
   "source": [
    "As we can see, all the matches found correspond to decimal digits between 0 and 9.\n",
    "\n",
    "Conversely, if wanted to find all the characters that are not decimal digits, we will use \\\\D, instead."
   ]
  },
  {
   "cell_type": "code",
   "execution_count": 2,
   "metadata": {},
   "outputs": [
    {
     "name": "stdout",
     "output_type": "stream",
     "text": [
      "<_sre.SRE_Match object; span=(0, 1), match='A'>\n",
      "<_sre.SRE_Match object; span=(1, 2), match='l'>\n",
      "<_sre.SRE_Match object; span=(2, 3), match='i'>\n",
      "<_sre.SRE_Match object; span=(3, 4), match='c'>\n",
      "<_sre.SRE_Match object; span=(4, 5), match='e'>\n",
      "<_sre.SRE_Match object; span=(5, 6), match=' '>\n",
      "<_sre.SRE_Match object; span=(6, 7), match='l'>\n",
      "<_sre.SRE_Match object; span=(7, 8), match='i'>\n",
      "<_sre.SRE_Match object; span=(8, 9), match='v'>\n",
      "<_sre.SRE_Match object; span=(9, 10), match='e'>\n",
      "<_sre.SRE_Match object; span=(10, 11), match='s'>\n",
      "<_sre.SRE_Match object; span=(11, 12), match=' '>\n",
      "<_sre.SRE_Match object; span=(12, 13), match='i'>\n",
      "<_sre.SRE_Match object; span=(13, 14), match='n'>\n",
      "<_sre.SRE_Match object; span=(14, 15), match=' '>\n",
      "<_sre.SRE_Match object; span=(19, 20), match=' '>\n",
      "<_sre.SRE_Match object; span=(20, 21), match='F'>\n",
      "<_sre.SRE_Match object; span=(21, 22), match='i'>\n",
      "<_sre.SRE_Match object; span=(22, 23), match='r'>\n",
      "<_sre.SRE_Match object; span=(23, 24), match='s'>\n",
      "<_sre.SRE_Match object; span=(24, 25), match='t'>\n",
      "<_sre.SRE_Match object; span=(25, 26), match=' '>\n",
      "<_sre.SRE_Match object; span=(26, 27), match='S'>\n",
      "<_sre.SRE_Match object; span=(27, 28), match='t'>\n",
      "<_sre.SRE_Match object; span=(28, 29), match='.'>\n",
      "<_sre.SRE_Match object; span=(29, 30), match=','>\n",
      "<_sre.SRE_Match object; span=(30, 31), match=' '>\n",
      "<_sre.SRE_Match object; span=(31, 32), match='O'>\n",
      "<_sre.SRE_Match object; span=(32, 33), match='c'>\n",
      "<_sre.SRE_Match object; span=(33, 34), match='e'>\n",
      "<_sre.SRE_Match object; span=(34, 35), match='a'>\n",
      "<_sre.SRE_Match object; span=(35, 36), match='n'>\n",
      "<_sre.SRE_Match object; span=(36, 37), match=' '>\n",
      "<_sre.SRE_Match object; span=(37, 38), match='C'>\n",
      "<_sre.SRE_Match object; span=(38, 39), match='i'>\n",
      "<_sre.SRE_Match object; span=(39, 40), match='t'>\n",
      "<_sre.SRE_Match object; span=(40, 41), match='y'>\n",
      "<_sre.SRE_Match object; span=(41, 42), match=','>\n",
      "<_sre.SRE_Match object; span=(42, 43), match=' '>\n",
      "<_sre.SRE_Match object; span=(43, 44), match='M'>\n",
      "<_sre.SRE_Match object; span=(44, 45), match='D'>\n",
      "<_sre.SRE_Match object; span=(45, 46), match=' '>\n",
      "<_sre.SRE_Match object; span=(52, 53), match='.'>\n"
     ]
    }
   ],
   "source": [
    "sample_text = 'Alice lives in 1230 First St., Ocean City, MD 156789.'\n",
    "\n",
    "regex = re.compile(r'\\D')\n",
    "\n",
    "matches = regex.finditer(sample_text)\n",
    "\n",
    "for match in matches:\n",
    "    print(match)"
   ]
  },
  {
   "cell_type": "markdown",
   "metadata": {},
   "source": [
    "We can see that none of the mathces are decimal digits. We also see, that by using \\\\D we were able to match all characters, including periods (`.`) and white spaces."
   ]
  },
  {
   "cell_type": "markdown",
   "metadata": {},
   "source": [
    "# TODO: Find IP Addresses\n",
    "\n",
    "In the code, we have a sentence with three IP addresses. Write a single regular expression that can match any IP address. Then use the `.finditer()` method to find the regex in the `sample_text` string. Finally, write a loop to print the `matches`. \n",
    "\n",
    "**HINT :** Use the special sequence `\\d` and take advantage that all IP addresses have the same pattern. "
   ]
  },
  {
   "cell_type": "code",
   "execution_count": 3,
   "metadata": {},
   "outputs": [
    {
     "name": "stdout",
     "output_type": "stream",
     "text": [
      "<_sre.SRE_Match object; span=(27, 42), match='123.456.789.123'>\n",
      "<_sre.SRE_Match object; span=(44, 59), match='999.888.777.666'>\n",
      "<_sre.SRE_Match object; span=(61, 76), match='111.222.333.444'>\n"
     ]
    }
   ],
   "source": [
    "# import re module\n",
    "import re\n",
    "\n",
    "sample_text = 'Here are three IP address: 123.456.789.123, 999.888.777.666, 111.222.333.444'\n",
    "\n",
    "# Write a regex that matches the metacharacter/s of your choice\n",
    "regex = re.compile(r'\\d\\d\\d\\.\\d\\d\\d\\.\\d\\d\\d\\.\\d\\d\\d')\n",
    "\n",
    "# Use the .finditer method to find the above regex\n",
    "matches = regex.finditer(sample_text)\n",
    "\n",
    "# Write a loop to print the match\n",
    "for match in matches:\n",
    "    print(match)"
   ]
  },
  {
   "cell_type": "markdown",
   "metadata": {},
   "source": [
    "If you wrote your regex correctly you should see three matches above."
   ]
  },
  {
   "cell_type": "markdown",
   "metadata": {},
   "source": [
    "### Matching Whitespace Characters Using \\s\n",
    "\n",
    "In the code below we will create a regular expression to find all the whitespace characters in a sentence. For this example, we will use a string literal that spans multiple lines. To do this, we will employ triple-quotes `'''...'''`."
   ]
  },
  {
   "cell_type": "code",
   "execution_count": 4,
   "metadata": {},
   "outputs": [
    {
     "name": "stdout",
     "output_type": "stream",
     "text": [
      "<_sre.SRE_Match object; span=(0, 1), match='\\n'>\n",
      "<_sre.SRE_Match object; span=(1, 2), match='\\t'>\n",
      "<_sre.SRE_Match object; span=(7, 8), match=' '>\n",
      "<_sre.SRE_Match object; span=(13, 14), match=' '>\n",
      "<_sre.SRE_Match object; span=(17, 18), match='\\x0c'>\n",
      "<_sre.SRE_Match object; span=(18, 19), match='\\n'>\n",
      "<_sre.SRE_Match object; span=(23, 24), match=' '>\n",
      "<_sre.SRE_Match object; span=(29, 30), match=' '>\n",
      "<_sre.SRE_Match object; span=(33, 34), match='\\r'>\n",
      "<_sre.SRE_Match object; span=(34, 35), match='\\n'>\n",
      "<_sre.SRE_Match object; span=(40, 41), match=' '>\n",
      "<_sre.SRE_Match object; span=(46, 47), match=' '>\n",
      "<_sre.SRE_Match object; span=(49, 50), match=' '>\n",
      "<_sre.SRE_Match object; span=(57, 58), match='\\x0b'>\n",
      "<_sre.SRE_Match object; span=(58, 59), match='\\n'>\n"
     ]
    }
   ],
   "source": [
    "sample_text = '''\n",
    "\\tAlice lives in:\\f\n",
    "1230 First St.\\r\n",
    "Ocean City, MD 156789.\\v\n",
    "'''\n",
    "\n",
    "regex = re.compile(r'\\s')\n",
    "\n",
    "matches = regex.finditer(sample_text)\n",
    "\n",
    "for match in matches:\n",
    "    print(match)"
   ]
  },
  {
   "cell_type": "markdown",
   "metadata": {},
   "source": [
    "As we can see, all the matches found correspond to white spaces, tabs (\\\\t), newlines (\\\\n), carriage returns (\\\\r), formfeeds (\\\\f), and vertical tabs (\\\\v). Notice that formfeeds appear as `\\x0c` and vertical tabs as `\\x0b`. \n",
    "\n",
    "Conversely, if wanted to find all the characters that are not whitespace characters, we will use \\S instead."
   ]
  },
  {
   "cell_type": "code",
   "execution_count": 5,
   "metadata": {},
   "outputs": [
    {
     "name": "stdout",
     "output_type": "stream",
     "text": [
      "<_sre.SRE_Match object; span=(2, 3), match='A'>\n",
      "<_sre.SRE_Match object; span=(3, 4), match='l'>\n",
      "<_sre.SRE_Match object; span=(4, 5), match='i'>\n",
      "<_sre.SRE_Match object; span=(5, 6), match='c'>\n",
      "<_sre.SRE_Match object; span=(6, 7), match='e'>\n",
      "<_sre.SRE_Match object; span=(8, 9), match='l'>\n",
      "<_sre.SRE_Match object; span=(9, 10), match='i'>\n",
      "<_sre.SRE_Match object; span=(10, 11), match='v'>\n",
      "<_sre.SRE_Match object; span=(11, 12), match='e'>\n",
      "<_sre.SRE_Match object; span=(12, 13), match='s'>\n",
      "<_sre.SRE_Match object; span=(14, 15), match='i'>\n",
      "<_sre.SRE_Match object; span=(15, 16), match='n'>\n",
      "<_sre.SRE_Match object; span=(16, 17), match=':'>\n",
      "<_sre.SRE_Match object; span=(19, 20), match='1'>\n",
      "<_sre.SRE_Match object; span=(20, 21), match='2'>\n",
      "<_sre.SRE_Match object; span=(21, 22), match='3'>\n",
      "<_sre.SRE_Match object; span=(22, 23), match='0'>\n",
      "<_sre.SRE_Match object; span=(24, 25), match='F'>\n",
      "<_sre.SRE_Match object; span=(25, 26), match='i'>\n",
      "<_sre.SRE_Match object; span=(26, 27), match='r'>\n",
      "<_sre.SRE_Match object; span=(27, 28), match='s'>\n",
      "<_sre.SRE_Match object; span=(28, 29), match='t'>\n",
      "<_sre.SRE_Match object; span=(30, 31), match='S'>\n",
      "<_sre.SRE_Match object; span=(31, 32), match='t'>\n",
      "<_sre.SRE_Match object; span=(32, 33), match='.'>\n",
      "<_sre.SRE_Match object; span=(35, 36), match='O'>\n",
      "<_sre.SRE_Match object; span=(36, 37), match='c'>\n",
      "<_sre.SRE_Match object; span=(37, 38), match='e'>\n",
      "<_sre.SRE_Match object; span=(38, 39), match='a'>\n",
      "<_sre.SRE_Match object; span=(39, 40), match='n'>\n",
      "<_sre.SRE_Match object; span=(41, 42), match='C'>\n",
      "<_sre.SRE_Match object; span=(42, 43), match='i'>\n",
      "<_sre.SRE_Match object; span=(43, 44), match='t'>\n",
      "<_sre.SRE_Match object; span=(44, 45), match='y'>\n",
      "<_sre.SRE_Match object; span=(45, 46), match=','>\n",
      "<_sre.SRE_Match object; span=(47, 48), match='M'>\n",
      "<_sre.SRE_Match object; span=(48, 49), match='D'>\n",
      "<_sre.SRE_Match object; span=(50, 51), match='1'>\n",
      "<_sre.SRE_Match object; span=(51, 52), match='5'>\n",
      "<_sre.SRE_Match object; span=(52, 53), match='6'>\n",
      "<_sre.SRE_Match object; span=(53, 54), match='7'>\n",
      "<_sre.SRE_Match object; span=(54, 55), match='8'>\n",
      "<_sre.SRE_Match object; span=(55, 56), match='9'>\n",
      "<_sre.SRE_Match object; span=(56, 57), match='.'>\n"
     ]
    }
   ],
   "source": [
    "sample_text = '''\n",
    "\\tAlice lives in:\\f\n",
    "1230 First St.\\r\n",
    "Ocean City, MD 156789.\\v\n",
    "'''\n",
    "\n",
    "regex = re.compile(r'\\S')\n",
    "\n",
    "matches = regex.finditer(sample_text)\n",
    "\n",
    "for match in matches:\n",
    "    print(match)"
   ]
  },
  {
   "cell_type": "markdown",
   "metadata": {},
   "source": [
    "We can see that none of the mathces are whitespace characters. We also see, that by using \\\\S we were able to match all characters, including periods (`.`), letters, and numbers."
   ]
  },
  {
   "cell_type": "markdown",
   "metadata": {},
   "source": [
    "# TODO: Print Numbers Between Whitespace Charcters\n",
    "\n",
    "In the code below we have a multi-line string with numbers in between whitespace charcters. Write a single regular expression that finds the tabs (`\\t`) and the newlines (`\\n`) in this multi-line string. Then use the `.finditer()` method to find the regex in the `sample_text` string. Then, write a loop that uses the span information from each `match` to only print the numbers found in the original multi-line string. Notice that each set of numbers is of different length. Your code should work in general for sets of numbers of any length. So, if the numbers in the string were to change your code should still be able to print the numbers. \n",
    "\n",
    "**HINT :** Notice that there are no whitespaces in the multiline string. Use the `\\s` sequence to find the tabs and newlines. Then notice that you can use the span's `end` and `start` index from consecutive matches to figure out the length of each set of numbers. Use these indices to print the numbers found in the original multi-line string. The `MatchObject` has a `.start()` and `.end()` methods to extract the `start` and `end` indices from the span. We can use these methods instead of the statement `match.span()[0]` that we were using before. In other words, `match.start()` is equivalent to `match.span()[0]` and `match.end()` is equivalent to `match.span()[1]`."
   ]
  },
  {
   "cell_type": "code",
   "execution_count": 6,
   "metadata": {},
   "outputs": [
    {
     "name": "stdout",
     "output_type": "stream",
     "text": [
      "\n",
      "Numbers from the original text: 123\n",
      "\n",
      "Numbers from the original text: 45\n",
      "\n",
      "Numbers from the original text: 7895\n",
      "\n",
      "Numbers from the original text: 1\n",
      "\n",
      "Numbers from the original text: 222\n",
      "\n",
      "Numbers from the original text: 33\n"
     ]
    }
   ],
   "source": [
    "# import re module\n",
    "import re\n",
    "\n",
    "sample_text = '''\n",
    "123\\t45\\t7895\n",
    "1\\t222\\t33\n",
    "'''\n",
    "\n",
    "# Write a regex that matches the whitespace chracters\n",
    "regex = re.compile(r'\\s')\n",
    "\n",
    "# Use the .finditer method to find the above regex\n",
    "matches = regex.finditer(sample_text)\n",
    "\n",
    "counter = 0\n",
    "\n",
    "# Write a loop to print the numbers found in the original string\n",
    "for match in matches:    \n",
    "    if counter != 0:\n",
    "        start_idx = match.start()        \n",
    "        print('\\nNumbers from the original text:', sample_text[end_idx:start_idx])        \n",
    "    end_idx = match.end()    \n",
    "    counter += 1"
   ]
  },
  {
   "cell_type": "markdown",
   "metadata": {},
   "source": [
    "### Matching Alphanumeric Characters Using \\w\n",
    "\n",
    "In the code below we will create a regular expression to find all the alphanumeric characters in a sentence. This inlcudes the underscore ( _ ), all the numbers 0 thorugh 9, and all upper and lower case letters."
   ]
  },
  {
   "cell_type": "code",
   "execution_count": 7,
   "metadata": {},
   "outputs": [
    {
     "name": "stdout",
     "output_type": "stream",
     "text": [
      "<_sre.SRE_Match object; span=(1, 2), match='Y'>\n",
      "<_sre.SRE_Match object; span=(2, 3), match='o'>\n",
      "<_sre.SRE_Match object; span=(3, 4), match='u'>\n",
      "<_sre.SRE_Match object; span=(5, 6), match='c'>\n",
      "<_sre.SRE_Match object; span=(6, 7), match='a'>\n",
      "<_sre.SRE_Match object; span=(7, 8), match='n'>\n",
      "<_sre.SRE_Match object; span=(9, 10), match='c'>\n",
      "<_sre.SRE_Match object; span=(10, 11), match='o'>\n",
      "<_sre.SRE_Match object; span=(11, 12), match='n'>\n",
      "<_sre.SRE_Match object; span=(12, 13), match='t'>\n",
      "<_sre.SRE_Match object; span=(13, 14), match='a'>\n",
      "<_sre.SRE_Match object; span=(14, 15), match='c'>\n",
      "<_sre.SRE_Match object; span=(15, 16), match='t'>\n",
      "<_sre.SRE_Match object; span=(17, 18), match='F'>\n",
      "<_sre.SRE_Match object; span=(18, 19), match='A'>\n",
      "<_sre.SRE_Match object; span=(19, 20), match='K'>\n",
      "<_sre.SRE_Match object; span=(20, 21), match='E'>\n",
      "<_sre.SRE_Match object; span=(22, 23), match='C'>\n",
      "<_sre.SRE_Match object; span=(23, 24), match='o'>\n",
      "<_sre.SRE_Match object; span=(24, 25), match='m'>\n",
      "<_sre.SRE_Match object; span=(25, 26), match='p'>\n",
      "<_sre.SRE_Match object; span=(26, 27), match='a'>\n",
      "<_sre.SRE_Match object; span=(27, 28), match='n'>\n",
      "<_sre.SRE_Match object; span=(28, 29), match='y'>\n",
      "<_sre.SRE_Match object; span=(30, 31), match='a'>\n",
      "<_sre.SRE_Match object; span=(31, 32), match='t'>\n",
      "<_sre.SRE_Match object; span=(34, 35), match='f'>\n",
      "<_sre.SRE_Match object; span=(35, 36), match='a'>\n",
      "<_sre.SRE_Match object; span=(36, 37), match='k'>\n",
      "<_sre.SRE_Match object; span=(37, 38), match='e'>\n",
      "<_sre.SRE_Match object; span=(38, 39), match='_'>\n",
      "<_sre.SRE_Match object; span=(39, 40), match='c'>\n",
      "<_sre.SRE_Match object; span=(40, 41), match='o'>\n",
      "<_sre.SRE_Match object; span=(41, 42), match='m'>\n",
      "<_sre.SRE_Match object; span=(42, 43), match='p'>\n",
      "<_sre.SRE_Match object; span=(43, 44), match='a'>\n",
      "<_sre.SRE_Match object; span=(44, 45), match='n'>\n",
      "<_sre.SRE_Match object; span=(45, 46), match='y'>\n",
      "<_sre.SRE_Match object; span=(46, 47), match='1'>\n",
      "<_sre.SRE_Match object; span=(47, 48), match='2'>\n",
      "<_sre.SRE_Match object; span=(49, 50), match='e'>\n",
      "<_sre.SRE_Match object; span=(50, 51), match='m'>\n",
      "<_sre.SRE_Match object; span=(51, 52), match='a'>\n",
      "<_sre.SRE_Match object; span=(52, 53), match='i'>\n",
      "<_sre.SRE_Match object; span=(53, 54), match='l'>\n",
      "<_sre.SRE_Match object; span=(55, 56), match='c'>\n",
      "<_sre.SRE_Match object; span=(56, 57), match='o'>\n",
      "<_sre.SRE_Match object; span=(57, 58), match='m'>\n"
     ]
    }
   ],
   "source": [
    "sample_text = '''\n",
    "You can contact FAKE Company at:\n",
    "fake_company12@email.com.\n",
    "'''\n",
    "regex = re.compile(r'\\w')\n",
    "\n",
    "matches = regex.finditer(sample_text)\n",
    "\n",
    "for match in matches:\n",
    "    print(match)"
   ]
  },
  {
   "cell_type": "markdown",
   "metadata": {},
   "source": [
    "As we can see, all the matches found correspond to alphanumeric characters only, inlcuding the underscore in the email address.\n",
    "\n",
    "Conversely, if wanted to find all the characters that are not alphanumneric characters, we will use \\W instead."
   ]
  },
  {
   "cell_type": "code",
   "execution_count": 8,
   "metadata": {},
   "outputs": [
    {
     "name": "stdout",
     "output_type": "stream",
     "text": [
      "<_sre.SRE_Match object; span=(0, 1), match='\\n'>\n",
      "<_sre.SRE_Match object; span=(4, 5), match=' '>\n",
      "<_sre.SRE_Match object; span=(8, 9), match=' '>\n",
      "<_sre.SRE_Match object; span=(16, 17), match=' '>\n",
      "<_sre.SRE_Match object; span=(21, 22), match=' '>\n",
      "<_sre.SRE_Match object; span=(29, 30), match=' '>\n",
      "<_sre.SRE_Match object; span=(32, 33), match=':'>\n",
      "<_sre.SRE_Match object; span=(33, 34), match='\\n'>\n",
      "<_sre.SRE_Match object; span=(48, 49), match='@'>\n",
      "<_sre.SRE_Match object; span=(54, 55), match='.'>\n",
      "<_sre.SRE_Match object; span=(58, 59), match='.'>\n",
      "<_sre.SRE_Match object; span=(59, 60), match='\\n'>\n"
     ]
    }
   ],
   "source": [
    "sample_text = '''\n",
    "You can contact FAKE Company at:\n",
    "fake_company12@email.com.\n",
    "'''\n",
    "regex = re.compile(r'\\W')\n",
    "\n",
    "matches = regex.finditer(sample_text)\n",
    "\n",
    "for match in matches:\n",
    "    print(match)"
   ]
  },
  {
   "cell_type": "markdown",
   "metadata": {},
   "source": [
    "We can see that none of the mathces are alphanumeric characters. We also see, that by using \\\\W we were able to match all whitespace characters, and the @ symbol in the email."
   ]
  },
  {
   "cell_type": "markdown",
   "metadata": {},
   "source": [
    "# TODO: Find emails\n",
    "\n",
    "In the code below we have a multi-line string with three email addresses. All the email address have the same pattern, namely, the first name initial, followed by a dot (`.`), followed by the last name initial. Write a regular expression that can find all the email addresses that have this pattern. Then use the `.finditer()` method to find the regex in the `sample_text` string. Then, write a loop that prints all the `mathes`. "
   ]
  },
  {
   "cell_type": "code",
   "execution_count": 51,
   "metadata": {},
   "outputs": [
    {
     "name": "stdout",
     "output_type": "stream",
     "text": [
      "<_sre.SRE_Match object; span=(15, 28), match='j.s@email.com'>\n",
      "<_sre.SRE_Match object; span=(44, 57), match='a.w@email.com'>\n",
      "<_sre.SRE_Match object; span=(70, 83), match='m.j@email.com'>\n"
     ]
    }
   ],
   "source": [
    "# import re module\n",
    "import re\n",
    "\n",
    "sample_text = '''\n",
    "John Sanders: j.s@email.com\n",
    "Alice Walters: a.w@email.com\n",
    "Mary Jones: m.j@email.com\n",
    "'''\n",
    "\n",
    "# Write a regex that matches the emails\n",
    "regex = re.compile(r'\\w\\.\\w@email.com')\n",
    "\n",
    "# Use the .finditer method to find the above regex\n",
    "matches = regex.finditer(sample_text)\n",
    "\n",
    "# Write a loop to print the matches\n",
    "for match in matches:\n",
    "    print(match)"
   ]
  },
  {
   "cell_type": "markdown",
   "metadata": {},
   "source": [
    "If you wrote your regex correctly, you should see three email addresses above."
   ]
  }
 ],
 "metadata": {
  "kernelspec": {
   "display_name": "Python 3",
   "language": "python",
   "name": "python3"
  },
  "language_info": {
   "codemirror_mode": {
    "name": "ipython",
    "version": 3
   },
   "file_extension": ".py",
   "mimetype": "text/x-python",
   "name": "python",
   "nbconvert_exporter": "python",
   "pygments_lexer": "ipython3",
   "version": "3.6.3"
  }
 },
 "nbformat": 4,
 "nbformat_minor": 2
}
